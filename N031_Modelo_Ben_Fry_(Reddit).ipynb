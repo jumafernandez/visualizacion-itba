{
  "cells": [
    {
      "cell_type": "markdown",
      "metadata": {
        "id": "view-in-github",
        "colab_type": "text"
      },
      "source": [
        "<a href=\"https://colab.research.google.com/github/jumafernandez/visualizacion-itba/blob/main/N031_Modelo_Ben_Fry_(Reddit).ipynb\" target=\"_parent\"><img src=\"https://colab.research.google.com/assets/colab-badge.svg\" alt=\"Open In Colab\"/></a>"
      ]
    },
    {
      "cell_type": "markdown",
      "metadata": {
        "id": "285e22b6"
      },
      "source": [
        "\n",
        "# 🔍 El modelo de visualización de Ben Fry\n",
        "\n",
        "Este trabajo está inspirado en el modelo de visualización de información propuesto por **Ben Fry**, uno de los pioneros en visualización interactiva y co-creador de Processing.\n",
        "\n",
        "Fry plantea que visualizar datos no es solo \"hacer gráficos\", sino un proceso iterativo y completo compuesto por **siete etapas**:\n",
        "\n",
        "---\n",
        "\n",
        "### 📊 Las 7 etapas del modelo de Ben Fry:\n",
        "\n",
        "| Nº | Etapa        | Propósito                                             |\n",
        "|----|--------------|-------------------------------------------------------|\n",
        "| 1️⃣ | Acquire      | Obtener los datos desde una fuente                   |\n",
        "| 2️⃣ | Parse        | Estructurar los datos de forma manipulable           |\n",
        "| 3️⃣ | Filter       | Eliminar ruido o datos irrelevantes                  |\n",
        "| 4️⃣ | Mine         | Detectar patrones, relaciones o información útil     |\n",
        "| 5️⃣ | Represent    | Elegir una forma visual para mostrar los datos       |\n",
        "| 6️⃣ | Refine       | Mejorar estética y claridad del gráfico              |\n",
        "| 7️⃣ | Interact     | Hacer que el usuario explore los datos libremente    |\n",
        "\n",
        "---\n",
        "\n",
        "En este proyecto, aplicamos estas etapas para comparar la percepción pública de **Lionel Messi** y **Diego Maradona** en Reddit, usando herramientas de procesamiento de texto, análisis de sentimiento y visualización.\n",
        "\n",
        "Cada etapa está señalizada en esta notebook para que puedas seguir el proceso completo de transformación de los datos en información visual útil.\n"
      ]
    },
    {
      "cell_type": "markdown",
      "metadata": {
        "id": "-chNPFWsEbT_"
      },
      "source": [
        "# ⚽ Comparación de opiniones sobre Messi y Maradona usando Reddit\n",
        "\n",
        "Este proyecto explora cómo son percibidos **Lionel Messi** y **Diego Maradona** por la comunidad de Reddit 🧠. Para eso, aplicamos el modelo de visualización de **Ben Fry**, que guía el proceso desde la adquisición de datos hasta su presentación final.\n",
        "\n",
        "---\n",
        "\n",
        "## 🔎 ¿Qué es Reddit?\n",
        "\n",
        "Reddit es una plataforma de foros organizada en comunidades llamadas *subreddits*. Dentro de cada subreddit, los usuarios publican contenido y participan en conversaciones sobre múltiples temas 🌐.\n",
        "\n",
        "En este proyecto recolectamos publicaciones textuales que mencionan a **Messi** o **Maradona** en comunidades relacionadas al fútbol, con el objetivo de comparar la opinión pública expresada en esos espacios.\n"
      ]
    },
    {
      "cell_type": "code",
      "execution_count": 1,
      "metadata": {
        "id": "78757927"
      },
      "outputs": [],
      "source": [
        "# 🔁 Parámetro global para decidir si usar la API de Reddit o cargar CSV\n",
        "usar_api = True"
      ]
    },
    {
      "cell_type": "markdown",
      "metadata": {
        "id": "Pzf1MmcPEmOU"
      },
      "source": [
        "## 1️⃣ Acquire – Adquisición de datos 🗂️\n",
        "\n",
        "**Objetivo:** Obtener datos desde una fuente relevante.\n",
        "\n",
        "**En este proyecto:** Usamos la API de Reddit a través de `praw` para recolectar publicaciones que mencionan a **Messi** o **Maradona**.\n",
        "\n",
        "📌 Para garantizar variedad y calidad:\n",
        "\n",
        "- Exploramos múltiples subreddits (`r/soccer`, `r/argentina`, `r/futbol`, etc.)\n",
        "- Filtramos por año\n",
        "- Establecimos un límite máximo por jugador\n",
        "\n",
        "Este paso sienta las bases para todo el análisis posterior."
      ]
    },
    {
      "cell_type": "markdown",
      "metadata": {
        "id": "9c88eb4e"
      },
      "source": [
        "### 📦 Importación de librerías y configuración inicial\n",
        "En las próximas dos celdas instalamos e importamos las librerías necesarias para conectarnos con la API de Reddit y manejar los datos."
      ]
    },
    {
      "cell_type": "code",
      "execution_count": 2,
      "metadata": {
        "colab": {
          "base_uri": "https://localhost:8080/"
        },
        "id": "eDse-i4USvy-",
        "outputId": "159de39b-71c5-45f4-a8f8-282a655a7910"
      },
      "outputs": [
        {
          "output_type": "stream",
          "name": "stdout",
          "text": [
            "Requirement already satisfied: praw in /usr/local/lib/python3.11/dist-packages (7.8.1)\n",
            "Requirement already satisfied: prawcore<3,>=2.4 in /usr/local/lib/python3.11/dist-packages (from praw) (2.4.0)\n",
            "Requirement already satisfied: update_checker>=0.18 in /usr/local/lib/python3.11/dist-packages (from praw) (0.18.0)\n",
            "Requirement already satisfied: websocket-client>=0.54.0 in /usr/local/lib/python3.11/dist-packages (from praw) (1.8.0)\n",
            "Requirement already satisfied: requests<3.0,>=2.6.0 in /usr/local/lib/python3.11/dist-packages (from prawcore<3,>=2.4->praw) (2.32.3)\n",
            "Requirement already satisfied: charset-normalizer<4,>=2 in /usr/local/lib/python3.11/dist-packages (from requests<3.0,>=2.6.0->prawcore<3,>=2.4->praw) (3.4.1)\n",
            "Requirement already satisfied: idna<4,>=2.5 in /usr/local/lib/python3.11/dist-packages (from requests<3.0,>=2.6.0->prawcore<3,>=2.4->praw) (3.10)\n",
            "Requirement already satisfied: urllib3<3,>=1.21.1 in /usr/local/lib/python3.11/dist-packages (from requests<3.0,>=2.6.0->prawcore<3,>=2.4->praw) (2.3.0)\n",
            "Requirement already satisfied: certifi>=2017.4.17 in /usr/local/lib/python3.11/dist-packages (from requests<3.0,>=2.6.0->prawcore<3,>=2.4->praw) (2025.1.31)\n",
            "Requirement already satisfied: langdetect in /usr/local/lib/python3.11/dist-packages (1.0.9)\n",
            "Requirement already satisfied: six in /usr/local/lib/python3.11/dist-packages (from langdetect) (1.17.0)\n"
          ]
        }
      ],
      "source": [
        "!pip install praw\n",
        "!pip install langdetect\n",
        "!pip install transformers torch --quiet"
      ]
    },
    {
      "cell_type": "code",
      "execution_count": 3,
      "metadata": {
        "id": "dID83JZqqUj0"
      },
      "outputs": [],
      "source": [
        "import warnings\n",
        "import praw\n",
        "from getpass import getpass\n",
        "import pandas as pd\n",
        "from datetime import datetime\n",
        "from langdetect import detect\n",
        "from langdetect.lang_detect_exception import LangDetectException\n",
        "from google.colab import files\n",
        "import pandas as pd\n",
        "import matplotlib.pyplot as plt\n",
        "from wordcloud import WordCloud\n",
        "import seaborn as sns\n",
        "\n",
        "warnings.filterwarnings(\"ignore\", category=UserWarning)"
      ]
    },
    {
      "cell_type": "markdown",
      "source": [
        "### 🌍 Conexión con Reddit\n",
        "\n",
        "Se instancia la conexión con la app de Reddit a través de `praw`."
      ],
      "metadata": {
        "id": "pWXz0PIG1GmI"
      }
    },
    {
      "cell_type": "code",
      "source": [
        "if usar_api:\n",
        "\n",
        "  # Se instancia la conexión con Reddit\n",
        "  reddit = praw.Reddit(\n",
        "  client_id='v0IM942RjE_5ipXrWZg7xw', # 🔁 Cambiar de acuerdo a la app de cada estudiante\n",
        "  client_secret='KOiykfuTbBuyO7fCLq9S0iGps3AzbA', # 🔁 Cambiar de acuerdo a la app de cada estudiante\n",
        "  user_agent='script:script_clase_itba:v1.0 (by u/Correct-District8721)', # 🔁 Cambiar de acuerdo a la app de cada estudiante\n",
        "  username='Correct-District8721', # 🔁 Cambiar de acuerdo a la cuenta de Reddit de cada estudiante\n",
        "  password=getpass('Contraseña de Reddit: ')\n",
        ")"
      ],
      "metadata": {
        "colab": {
          "base_uri": "https://localhost:8080/"
        },
        "id": "q-wGJ_4RzsQd",
        "outputId": "381a7d39-c092-4bd2-a9c0-6217abfb6eb4"
      },
      "execution_count": 4,
      "outputs": [
        {
          "name": "stdout",
          "output_type": "stream",
          "text": [
            "Contraseña de Reddit: ··········\n"
          ]
        }
      ]
    },
    {
      "cell_type": "markdown",
      "source": [
        "Se verifica la conexión:"
      ],
      "metadata": {
        "id": "UmXT2AbS1RNe"
      }
    },
    {
      "cell_type": "code",
      "execution_count": 5,
      "metadata": {
        "colab": {
          "base_uri": "https://localhost:8080/"
        },
        "id": "kPHqZi9wn-zo",
        "outputId": "fe237890-de18-48b6-b77f-6dcb1d109c8f"
      },
      "outputs": [
        {
          "output_type": "stream",
          "name": "stderr",
          "text": [
            "WARNING:praw:It appears that you are using PRAW in an asynchronous environment.\n",
            "It is strongly recommended to use Async PRAW: https://asyncpraw.readthedocs.io.\n",
            "See https://praw.readthedocs.io/en/latest/getting_started/multiple_instances.html#discord-bots-and-asynchronous-environments for more info.\n",
            "\n"
          ]
        },
        {
          "output_type": "stream",
          "name": "stdout",
          "text": [
            "Correct-District8721\n"
          ]
        }
      ],
      "source": [
        "if usar_api:\n",
        "  print(reddit.user.me())  # 👉 debería mostrar tu usuario y confirmar la conexión"
      ]
    },
    {
      "cell_type": "markdown",
      "metadata": {
        "id": "d0e591ee"
      },
      "source": [
        "### 🌍 Detección automática del idioma\n",
        "Creamos una función para detectar si el texto está en español, usando `langdetect`."
      ]
    },
    {
      "cell_type": "code",
      "execution_count": 6,
      "metadata": {
        "id": "zUiUljnHojFO"
      },
      "outputs": [],
      "source": [
        "def detectar_idioma(texto):\n",
        "    try:\n",
        "        return detect(texto)\n",
        "    except LangDetectException:\n",
        "        return \"unknown\""
      ]
    },
    {
      "cell_type": "markdown",
      "source": [
        "### 🖥️ Recuperación de posts desde Reddit\n",
        "\n",
        "Generamos una función general para recuperar posts desde Reddit con la librería `praw`."
      ],
      "metadata": {
        "id": "Hb2z4yzc0D8d"
      }
    },
    {
      "cell_type": "code",
      "source": [
        "def buscar_posts(query, subreddit='soccer', cantidad=300, max_limite=3000,\n",
        "                 idioma_filtrado='es',\n",
        "                 fecha_inicio='01/01/2024', fecha_fin='31/12/2024'):\n",
        "\n",
        "    # Convertir strings a datetime (formato argentino)\n",
        "    fecha_inicio_dt = datetime.strptime(fecha_inicio, '%d/%m/%Y')\n",
        "    fecha_fin_dt = datetime.strptime(fecha_fin, '%d/%m/%Y')\n",
        "\n",
        "    posts = []\n",
        "    for post in reddit.subreddit(subreddit).search(query, sort='new', limit=max_limite):\n",
        "        texto = post.selftext\n",
        "        if texto and len(texto) > 10:\n",
        "            fecha_post = datetime.utcfromtimestamp(post.created_utc)\n",
        "            if fecha_inicio_dt <= fecha_post <= fecha_fin_dt:\n",
        "                idioma_post = detectar_idioma(texto)\n",
        "                if idioma_post == idioma_filtrado:\n",
        "                    posts.append({\n",
        "                        \"titulo\": post.title,\n",
        "                        \"texto\": texto,\n",
        "                        \"autor\": str(post.author),\n",
        "                        \"fecha\": fecha_post,\n",
        "                        \"score\": post.score,\n",
        "                        \"comentarios\": post.num_comments,\n",
        "                        \"link\": post.url,\n",
        "                        \"jugador\": query\n",
        "                    })\n",
        "                    if len(posts) >= cantidad:\n",
        "                        break\n",
        "    return pd.DataFrame(posts)"
      ],
      "metadata": {
        "id": "LoVWDnEsz_kG"
      },
      "execution_count": 7,
      "outputs": []
    },
    {
      "cell_type": "markdown",
      "source": [
        "### 🗃️ Recuperación desde diferentes subreddit\n",
        "\n",
        "Generamos una función que utiliza la función `buscar_posts` para recuperar posts desde diferentes Subreddits."
      ],
      "metadata": {
        "id": "uoar_os-0JLQ"
      }
    },
    {
      "cell_type": "code",
      "source": [
        "def buscar_posts_multi_subreddits(query, subreddits, cantidad=300, max_limite=1000, idioma_filtrado='es', fecha_i='01/01/2024', fecha_f='31/12/2024'):\n",
        "    posts = []\n",
        "    for sub in subreddits:\n",
        "        print(f\"Buscando en r/{sub}...\")\n",
        "        df_temp = buscar_posts(query, subreddit=sub, cantidad=cantidad, max_limite=max_limite, idioma_filtrado=idioma_filtrado, fecha_inicio=fecha_i, fecha_fin=fecha_f)\n",
        "        posts.extend(df_temp.to_dict('records'))\n",
        "        if len(posts) >= cantidad:\n",
        "            break\n",
        "    return pd.DataFrame(posts[:cantidad])"
      ],
      "metadata": {
        "id": "Ww9g0K990J36"
      },
      "execution_count": 8,
      "outputs": []
    },
    {
      "cell_type": "markdown",
      "metadata": {
        "id": "13e89dc2"
      },
      "source": [
        "### 📂 Lista de subreddits relevantes\n",
        "Acá definimos en qué comunidades vamos a buscar menciones."
      ]
    },
    {
      "cell_type": "code",
      "execution_count": 9,
      "metadata": {
        "id": "_2dYcLHmotPx"
      },
      "outputs": [],
      "source": [
        "subreddits_es = ['soccer', 'argentina', 'futbol']"
      ]
    },
    {
      "cell_type": "markdown",
      "metadata": {
        "id": "m7kY3F6SE76x"
      },
      "source": [
        "## 2️⃣ Parse – Estructuración 🧱\n",
        "\n",
        "**Objetivo:** Organizar los datos en una estructura manipulable.\n",
        "\n",
        "**En este proyecto:** Convertimos los resultados en un `DataFrame` de Pandas, con campos clave como:\n",
        "\n",
        "- `texto`\n",
        "- `fecha`\n",
        "- `jugador`\n",
        "- `score`\n",
        "- `comentarios`\n",
        "\n",
        "Esto nos permite aplicar filtros, transformaciones y visualizaciones fácilmente."
      ]
    },
    {
      "cell_type": "markdown",
      "metadata": {
        "id": "-VEmFtfdFB_r"
      },
      "source": [
        "## 3️⃣ Filter – Filtrado 🧹\n",
        "\n",
        "**Objetivo:** Eliminar ruido y datos irrelevantes.\n",
        "\n",
        "**En este proyecto:** Aplicamos filtros para conservar solo publicaciones útiles:\n",
        "\n",
        "- Idioma español (usamos `langdetect`)\n",
        "- Año 2024\n",
        "- Textos con contenido mínimo\n",
        "\n",
        "Esto garantiza una muestra más precisa y significativa."
      ]
    },
    {
      "cell_type": "code",
      "execution_count": 10,
      "metadata": {
        "colab": {
          "base_uri": "https://localhost:8080/"
        },
        "id": "9LhX2Pxau2c0",
        "outputId": "86504d84-4767-42df-83ee-822d5dbfe574"
      },
      "outputs": [
        {
          "output_type": "stream",
          "name": "stderr",
          "text": [
            "WARNING:praw:It appears that you are using PRAW in an asynchronous environment.\n",
            "It is strongly recommended to use Async PRAW: https://asyncpraw.readthedocs.io.\n",
            "See https://praw.readthedocs.io/en/latest/getting_started/multiple_instances.html#discord-bots-and-asynchronous-environments for more info.\n",
            "\n"
          ]
        },
        {
          "output_type": "stream",
          "name": "stdout",
          "text": [
            "Buscando en r/soccer...\n"
          ]
        },
        {
          "output_type": "stream",
          "name": "stderr",
          "text": [
            "WARNING:praw:It appears that you are using PRAW in an asynchronous environment.\n",
            "It is strongly recommended to use Async PRAW: https://asyncpraw.readthedocs.io.\n",
            "See https://praw.readthedocs.io/en/latest/getting_started/multiple_instances.html#discord-bots-and-asynchronous-environments for more info.\n",
            "\n",
            "WARNING:praw:It appears that you are using PRAW in an asynchronous environment.\n",
            "It is strongly recommended to use Async PRAW: https://asyncpraw.readthedocs.io.\n",
            "See https://praw.readthedocs.io/en/latest/getting_started/multiple_instances.html#discord-bots-and-asynchronous-environments for more info.\n",
            "\n",
            "WARNING:praw:It appears that you are using PRAW in an asynchronous environment.\n",
            "It is strongly recommended to use Async PRAW: https://asyncpraw.readthedocs.io.\n",
            "See https://praw.readthedocs.io/en/latest/getting_started/multiple_instances.html#discord-bots-and-asynchronous-environments for more info.\n",
            "\n"
          ]
        },
        {
          "output_type": "stream",
          "name": "stdout",
          "text": [
            "Buscando en r/argentina...\n"
          ]
        },
        {
          "output_type": "stream",
          "name": "stderr",
          "text": [
            "WARNING:praw:It appears that you are using PRAW in an asynchronous environment.\n",
            "It is strongly recommended to use Async PRAW: https://asyncpraw.readthedocs.io.\n",
            "See https://praw.readthedocs.io/en/latest/getting_started/multiple_instances.html#discord-bots-and-asynchronous-environments for more info.\n",
            "\n",
            "WARNING:praw:It appears that you are using PRAW in an asynchronous environment.\n",
            "It is strongly recommended to use Async PRAW: https://asyncpraw.readthedocs.io.\n",
            "See https://praw.readthedocs.io/en/latest/getting_started/multiple_instances.html#discord-bots-and-asynchronous-environments for more info.\n",
            "\n",
            "WARNING:praw:It appears that you are using PRAW in an asynchronous environment.\n",
            "It is strongly recommended to use Async PRAW: https://asyncpraw.readthedocs.io.\n",
            "See https://praw.readthedocs.io/en/latest/getting_started/multiple_instances.html#discord-bots-and-asynchronous-environments for more info.\n",
            "\n"
          ]
        },
        {
          "output_type": "stream",
          "name": "stdout",
          "text": [
            "Buscando en r/futbol...\n"
          ]
        },
        {
          "output_type": "stream",
          "name": "stderr",
          "text": [
            "WARNING:praw:It appears that you are using PRAW in an asynchronous environment.\n",
            "It is strongly recommended to use Async PRAW: https://asyncpraw.readthedocs.io.\n",
            "See https://praw.readthedocs.io/en/latest/getting_started/multiple_instances.html#discord-bots-and-asynchronous-environments for more info.\n",
            "\n",
            "WARNING:praw:It appears that you are using PRAW in an asynchronous environment.\n",
            "It is strongly recommended to use Async PRAW: https://asyncpraw.readthedocs.io.\n",
            "See https://praw.readthedocs.io/en/latest/getting_started/multiple_instances.html#discord-bots-and-asynchronous-environments for more info.\n",
            "\n"
          ]
        }
      ],
      "source": [
        "if usar_api:\n",
        "  df_messi_es = buscar_posts_multi_subreddits(\"Messi\", subreddits=subreddits_es, cantidad=300, max_limite=10000, fecha_i='01/01/2023')\n",
        "  df_messi_es.shape"
      ]
    },
    {
      "cell_type": "code",
      "execution_count": 11,
      "metadata": {
        "colab": {
          "base_uri": "https://localhost:8080/"
        },
        "id": "ThYvVTWgu4K3",
        "outputId": "c3d2022a-ceef-4c7d-9a0f-aea769f955bc"
      },
      "outputs": [
        {
          "output_type": "stream",
          "name": "stderr",
          "text": [
            "WARNING:praw:It appears that you are using PRAW in an asynchronous environment.\n",
            "It is strongly recommended to use Async PRAW: https://asyncpraw.readthedocs.io.\n",
            "See https://praw.readthedocs.io/en/latest/getting_started/multiple_instances.html#discord-bots-and-asynchronous-environments for more info.\n",
            "\n"
          ]
        },
        {
          "output_type": "stream",
          "name": "stdout",
          "text": [
            "Buscando en r/soccer...\n"
          ]
        },
        {
          "output_type": "stream",
          "name": "stderr",
          "text": [
            "WARNING:praw:It appears that you are using PRAW in an asynchronous environment.\n",
            "It is strongly recommended to use Async PRAW: https://asyncpraw.readthedocs.io.\n",
            "See https://praw.readthedocs.io/en/latest/getting_started/multiple_instances.html#discord-bots-and-asynchronous-environments for more info.\n",
            "\n",
            "WARNING:praw:It appears that you are using PRAW in an asynchronous environment.\n",
            "It is strongly recommended to use Async PRAW: https://asyncpraw.readthedocs.io.\n",
            "See https://praw.readthedocs.io/en/latest/getting_started/multiple_instances.html#discord-bots-and-asynchronous-environments for more info.\n",
            "\n",
            "WARNING:praw:It appears that you are using PRAW in an asynchronous environment.\n",
            "It is strongly recommended to use Async PRAW: https://asyncpraw.readthedocs.io.\n",
            "See https://praw.readthedocs.io/en/latest/getting_started/multiple_instances.html#discord-bots-and-asynchronous-environments for more info.\n",
            "\n"
          ]
        },
        {
          "output_type": "stream",
          "name": "stdout",
          "text": [
            "Buscando en r/argentina...\n"
          ]
        },
        {
          "output_type": "stream",
          "name": "stderr",
          "text": [
            "WARNING:praw:It appears that you are using PRAW in an asynchronous environment.\n",
            "It is strongly recommended to use Async PRAW: https://asyncpraw.readthedocs.io.\n",
            "See https://praw.readthedocs.io/en/latest/getting_started/multiple_instances.html#discord-bots-and-asynchronous-environments for more info.\n",
            "\n",
            "WARNING:praw:It appears that you are using PRAW in an asynchronous environment.\n",
            "It is strongly recommended to use Async PRAW: https://asyncpraw.readthedocs.io.\n",
            "See https://praw.readthedocs.io/en/latest/getting_started/multiple_instances.html#discord-bots-and-asynchronous-environments for more info.\n",
            "\n",
            "WARNING:praw:It appears that you are using PRAW in an asynchronous environment.\n",
            "It is strongly recommended to use Async PRAW: https://asyncpraw.readthedocs.io.\n",
            "See https://praw.readthedocs.io/en/latest/getting_started/multiple_instances.html#discord-bots-and-asynchronous-environments for more info.\n",
            "\n"
          ]
        },
        {
          "output_type": "stream",
          "name": "stdout",
          "text": [
            "Buscando en r/futbol...\n"
          ]
        }
      ],
      "source": [
        "if usar_api:\n",
        "  df_maradona_es = buscar_posts_multi_subreddits(\"Maradona\", subreddits=subreddits_es, cantidad=300, max_limite=10000, fecha_i='01/01/2021')\n",
        "  df_maradona_es.shape"
      ]
    },
    {
      "cell_type": "code",
      "execution_count": 12,
      "metadata": {
        "id": "ukQNNyI2sp5g",
        "colab": {
          "base_uri": "https://localhost:8080/",
          "height": 17
        },
        "outputId": "49962350-bf9d-41ad-ed22-56efea9813dc"
      },
      "outputs": [
        {
          "output_type": "display_data",
          "data": {
            "text/plain": [
              "<IPython.core.display.Javascript object>"
            ],
            "application/javascript": [
              "\n",
              "    async function download(id, filename, size) {\n",
              "      if (!google.colab.kernel.accessAllowed) {\n",
              "        return;\n",
              "      }\n",
              "      const div = document.createElement('div');\n",
              "      const label = document.createElement('label');\n",
              "      label.textContent = `Downloading \"${filename}\": `;\n",
              "      div.appendChild(label);\n",
              "      const progress = document.createElement('progress');\n",
              "      progress.max = size;\n",
              "      div.appendChild(progress);\n",
              "      document.body.appendChild(div);\n",
              "\n",
              "      const buffers = [];\n",
              "      let downloaded = 0;\n",
              "\n",
              "      const channel = await google.colab.kernel.comms.open(id);\n",
              "      // Send a message to notify the kernel that we're ready.\n",
              "      channel.send({})\n",
              "\n",
              "      for await (const message of channel.messages) {\n",
              "        // Send a message to notify the kernel that we're ready.\n",
              "        channel.send({})\n",
              "        if (message.buffers) {\n",
              "          for (const buffer of message.buffers) {\n",
              "            buffers.push(buffer);\n",
              "            downloaded += buffer.byteLength;\n",
              "            progress.value = downloaded;\n",
              "          }\n",
              "        }\n",
              "      }\n",
              "      const blob = new Blob(buffers, {type: 'application/binary'});\n",
              "      const a = document.createElement('a');\n",
              "      a.href = window.URL.createObjectURL(blob);\n",
              "      a.download = filename;\n",
              "      div.appendChild(a);\n",
              "      a.click();\n",
              "      div.remove();\n",
              "    }\n",
              "  "
            ]
          },
          "metadata": {}
        },
        {
          "output_type": "display_data",
          "data": {
            "text/plain": [
              "<IPython.core.display.Javascript object>"
            ],
            "application/javascript": [
              "download(\"download_a1fead13-676f-487c-ae34-3316b12d5941\", \"posts.csv\", 214171)"
            ]
          },
          "metadata": {}
        }
      ],
      "source": [
        "if usar_api:\n",
        "    df = pd.concat([df_messi_es, df_maradona_es]).reset_index(drop=True)\n",
        "    df.to_csv(\"posts.csv\", index=False)\n",
        "    files.download(\"posts.csv\")\n",
        "else:\n",
        "    print(\"📁 Cargar archivo posts.csv manualmente\")\n",
        "    uploaded = files.upload()\n",
        "    df = pd.read_csv(\"posts.csv\")"
      ]
    },
    {
      "cell_type": "code",
      "execution_count": 13,
      "metadata": {
        "colab": {
          "base_uri": "https://localhost:8080/"
        },
        "id": "1loGtNC9r3HQ",
        "outputId": "5437b068-76e8-4bdf-bc07-299e9b752d85"
      },
      "outputs": [
        {
          "output_type": "execute_result",
          "data": {
            "text/plain": [
              "(137, 8)"
            ]
          },
          "metadata": {},
          "execution_count": 13
        }
      ],
      "source": [
        "df.shape"
      ]
    },
    {
      "cell_type": "code",
      "execution_count": 14,
      "metadata": {
        "colab": {
          "base_uri": "https://localhost:8080/",
          "height": 614
        },
        "id": "M8TPekOjr9fN",
        "outputId": "4a478a88-a5c1-4885-d2fe-436df2fae4e6"
      },
      "outputs": [
        {
          "output_type": "execute_result",
          "data": {
            "text/plain": [
              "                                                titulo  \\\n",
              "0    Post-Match Thread: Argentina 1-0 Peru | World ...   \n",
              "1    Ustedes creen que messi sera el ultimo mejor j...   \n",
              "2                  Argentinos, ¿que les impresiona mas   \n",
              "3                                    Gracias Argentina   \n",
              "4                     La pagina que hice salio el OLGA   \n",
              "..                                                 ...   \n",
              "132  Comparación de Diego Armando Maradona y Lionel...   \n",
              "133   Muere 'O rei' Pelé, leyenda del fútbol brasileño   \n",
              "134  Que bien le hará al fútbol que los dos más gra...   \n",
              "135                               Opinión poco popular   \n",
              "136                ¿Que Frase le Regalarías al Diego?.   \n",
              "\n",
              "                                                 texto                 autor  \\\n",
              "0    FT: Argentina 1-0 Peru\\nVenue: Alberto José Ar...         GreatSpaniard   \n",
              "1    Pues aca pensando eso es una pregunta que me h...          InnerDay8650   \n",
              "2    Que lo ven como más impresionante, el mundial ...              Flaky399   \n",
              "3    De parte de todos los venezolanos. Gracias Arg...             alfequilu   \n",
              "4    Creo que titulo es bastante auto explicativo a...                Mafixo   \n",
              "..                                                 ...                   ...   \n",
              "132   \\n\\nComparar a Diego Maradona y Lionel Messi ...      Fit-Setting-9663   \n",
              "133  &#x200B;\\n\\nhttps://preview.redd.it/d7ho9o23yv...             wertyrick   \n",
              "134  Sinceramente la figura de Maradona jamás ha si...              skarpelo   \n",
              "135  Maradona es uno de los jugadores más important...  Wild-Butterscotch213   \n",
              "136  \\>> [Clic Aqui Para Dejarle una Dedicatoria a ...    bestnewsoftheworld   \n",
              "\n",
              "                  fecha  score  comentarios  \\\n",
              "0   2024-11-20 02:11:34     65           35   \n",
              "1   2024-10-22 04:02:11      0           37   \n",
              "2   2024-10-05 05:26:43      1           18   \n",
              "3   2024-08-08 17:54:37     41           20   \n",
              "4   2024-08-02 22:19:41      0            1   \n",
              "..                  ...    ...          ...   \n",
              "132 2023-01-11 08:09:49      0           13   \n",
              "133 2022-12-29 19:07:46      8            0   \n",
              "134 2022-12-18 15:48:09     19           28   \n",
              "135 2022-07-29 06:13:10     11           13   \n",
              "136 2021-01-04 07:34:39      3            0   \n",
              "\n",
              "                                                  link   jugador  \n",
              "0    https://www.reddit.com/r/soccer/comments/1gveq...     Messi  \n",
              "1    https://www.reddit.com/r/argentina/comments/1g...     Messi  \n",
              "2    https://www.reddit.com/r/argentina/comments/1f...     Messi  \n",
              "3    https://www.reddit.com/r/argentina/comments/1e...     Messi  \n",
              "4    https://www.reddit.com/r/argentina/comments/1e...     Messi  \n",
              "..                                                 ...       ...  \n",
              "132  https://www.reddit.com/r/futbol/comments/108zf...  Maradona  \n",
              "133  https://www.reddit.com/r/futbol/comments/zydfh...  Maradona  \n",
              "134  https://www.reddit.com/r/futbol/comments/zp1h5...  Maradona  \n",
              "135  https://www.reddit.com/r/futbol/comments/wax1y...  Maradona  \n",
              "136  https://www.reddit.com/r/futbol/comments/kq3ws...  Maradona  \n",
              "\n",
              "[137 rows x 8 columns]"
            ],
            "text/html": [
              "\n",
              "  <div id=\"df-cf99a219-f1d3-408c-9aee-0103b496183b\" class=\"colab-df-container\">\n",
              "    <div>\n",
              "<style scoped>\n",
              "    .dataframe tbody tr th:only-of-type {\n",
              "        vertical-align: middle;\n",
              "    }\n",
              "\n",
              "    .dataframe tbody tr th {\n",
              "        vertical-align: top;\n",
              "    }\n",
              "\n",
              "    .dataframe thead th {\n",
              "        text-align: right;\n",
              "    }\n",
              "</style>\n",
              "<table border=\"1\" class=\"dataframe\">\n",
              "  <thead>\n",
              "    <tr style=\"text-align: right;\">\n",
              "      <th></th>\n",
              "      <th>titulo</th>\n",
              "      <th>texto</th>\n",
              "      <th>autor</th>\n",
              "      <th>fecha</th>\n",
              "      <th>score</th>\n",
              "      <th>comentarios</th>\n",
              "      <th>link</th>\n",
              "      <th>jugador</th>\n",
              "    </tr>\n",
              "  </thead>\n",
              "  <tbody>\n",
              "    <tr>\n",
              "      <th>0</th>\n",
              "      <td>Post-Match Thread: Argentina 1-0 Peru | World ...</td>\n",
              "      <td>FT: Argentina 1-0 Peru\\nVenue: Alberto José Ar...</td>\n",
              "      <td>GreatSpaniard</td>\n",
              "      <td>2024-11-20 02:11:34</td>\n",
              "      <td>65</td>\n",
              "      <td>35</td>\n",
              "      <td>https://www.reddit.com/r/soccer/comments/1gveq...</td>\n",
              "      <td>Messi</td>\n",
              "    </tr>\n",
              "    <tr>\n",
              "      <th>1</th>\n",
              "      <td>Ustedes creen que messi sera el ultimo mejor j...</td>\n",
              "      <td>Pues aca pensando eso es una pregunta que me h...</td>\n",
              "      <td>InnerDay8650</td>\n",
              "      <td>2024-10-22 04:02:11</td>\n",
              "      <td>0</td>\n",
              "      <td>37</td>\n",
              "      <td>https://www.reddit.com/r/argentina/comments/1g...</td>\n",
              "      <td>Messi</td>\n",
              "    </tr>\n",
              "    <tr>\n",
              "      <th>2</th>\n",
              "      <td>Argentinos, ¿que les impresiona mas</td>\n",
              "      <td>Que lo ven como más impresionante, el mundial ...</td>\n",
              "      <td>Flaky399</td>\n",
              "      <td>2024-10-05 05:26:43</td>\n",
              "      <td>1</td>\n",
              "      <td>18</td>\n",
              "      <td>https://www.reddit.com/r/argentina/comments/1f...</td>\n",
              "      <td>Messi</td>\n",
              "    </tr>\n",
              "    <tr>\n",
              "      <th>3</th>\n",
              "      <td>Gracias Argentina</td>\n",
              "      <td>De parte de todos los venezolanos. Gracias Arg...</td>\n",
              "      <td>alfequilu</td>\n",
              "      <td>2024-08-08 17:54:37</td>\n",
              "      <td>41</td>\n",
              "      <td>20</td>\n",
              "      <td>https://www.reddit.com/r/argentina/comments/1e...</td>\n",
              "      <td>Messi</td>\n",
              "    </tr>\n",
              "    <tr>\n",
              "      <th>4</th>\n",
              "      <td>La pagina que hice salio el OLGA</td>\n",
              "      <td>Creo que titulo es bastante auto explicativo a...</td>\n",
              "      <td>Mafixo</td>\n",
              "      <td>2024-08-02 22:19:41</td>\n",
              "      <td>0</td>\n",
              "      <td>1</td>\n",
              "      <td>https://www.reddit.com/r/argentina/comments/1e...</td>\n",
              "      <td>Messi</td>\n",
              "    </tr>\n",
              "    <tr>\n",
              "      <th>...</th>\n",
              "      <td>...</td>\n",
              "      <td>...</td>\n",
              "      <td>...</td>\n",
              "      <td>...</td>\n",
              "      <td>...</td>\n",
              "      <td>...</td>\n",
              "      <td>...</td>\n",
              "      <td>...</td>\n",
              "    </tr>\n",
              "    <tr>\n",
              "      <th>132</th>\n",
              "      <td>Comparación de Diego Armando Maradona y Lionel...</td>\n",
              "      <td>\\n\\nComparar a Diego Maradona y Lionel Messi ...</td>\n",
              "      <td>Fit-Setting-9663</td>\n",
              "      <td>2023-01-11 08:09:49</td>\n",
              "      <td>0</td>\n",
              "      <td>13</td>\n",
              "      <td>https://www.reddit.com/r/futbol/comments/108zf...</td>\n",
              "      <td>Maradona</td>\n",
              "    </tr>\n",
              "    <tr>\n",
              "      <th>133</th>\n",
              "      <td>Muere 'O rei' Pelé, leyenda del fútbol brasileño</td>\n",
              "      <td>&amp;#x200B;\\n\\nhttps://preview.redd.it/d7ho9o23yv...</td>\n",
              "      <td>wertyrick</td>\n",
              "      <td>2022-12-29 19:07:46</td>\n",
              "      <td>8</td>\n",
              "      <td>0</td>\n",
              "      <td>https://www.reddit.com/r/futbol/comments/zydfh...</td>\n",
              "      <td>Maradona</td>\n",
              "    </tr>\n",
              "    <tr>\n",
              "      <th>134</th>\n",
              "      <td>Que bien le hará al fútbol que los dos más gra...</td>\n",
              "      <td>Sinceramente la figura de Maradona jamás ha si...</td>\n",
              "      <td>skarpelo</td>\n",
              "      <td>2022-12-18 15:48:09</td>\n",
              "      <td>19</td>\n",
              "      <td>28</td>\n",
              "      <td>https://www.reddit.com/r/futbol/comments/zp1h5...</td>\n",
              "      <td>Maradona</td>\n",
              "    </tr>\n",
              "    <tr>\n",
              "      <th>135</th>\n",
              "      <td>Opinión poco popular</td>\n",
              "      <td>Maradona es uno de los jugadores más important...</td>\n",
              "      <td>Wild-Butterscotch213</td>\n",
              "      <td>2022-07-29 06:13:10</td>\n",
              "      <td>11</td>\n",
              "      <td>13</td>\n",
              "      <td>https://www.reddit.com/r/futbol/comments/wax1y...</td>\n",
              "      <td>Maradona</td>\n",
              "    </tr>\n",
              "    <tr>\n",
              "      <th>136</th>\n",
              "      <td>¿Que Frase le Regalarías al Diego?.</td>\n",
              "      <td>\\&gt;&gt; [Clic Aqui Para Dejarle una Dedicatoria a ...</td>\n",
              "      <td>bestnewsoftheworld</td>\n",
              "      <td>2021-01-04 07:34:39</td>\n",
              "      <td>3</td>\n",
              "      <td>0</td>\n",
              "      <td>https://www.reddit.com/r/futbol/comments/kq3ws...</td>\n",
              "      <td>Maradona</td>\n",
              "    </tr>\n",
              "  </tbody>\n",
              "</table>\n",
              "<p>137 rows × 8 columns</p>\n",
              "</div>\n",
              "    <div class=\"colab-df-buttons\">\n",
              "\n",
              "  <div class=\"colab-df-container\">\n",
              "    <button class=\"colab-df-convert\" onclick=\"convertToInteractive('df-cf99a219-f1d3-408c-9aee-0103b496183b')\"\n",
              "            title=\"Convert this dataframe to an interactive table.\"\n",
              "            style=\"display:none;\">\n",
              "\n",
              "  <svg xmlns=\"http://www.w3.org/2000/svg\" height=\"24px\" viewBox=\"0 -960 960 960\">\n",
              "    <path d=\"M120-120v-720h720v720H120Zm60-500h600v-160H180v160Zm220 220h160v-160H400v160Zm0 220h160v-160H400v160ZM180-400h160v-160H180v160Zm440 0h160v-160H620v160ZM180-180h160v-160H180v160Zm440 0h160v-160H620v160Z\"/>\n",
              "  </svg>\n",
              "    </button>\n",
              "\n",
              "  <style>\n",
              "    .colab-df-container {\n",
              "      display:flex;\n",
              "      gap: 12px;\n",
              "    }\n",
              "\n",
              "    .colab-df-convert {\n",
              "      background-color: #E8F0FE;\n",
              "      border: none;\n",
              "      border-radius: 50%;\n",
              "      cursor: pointer;\n",
              "      display: none;\n",
              "      fill: #1967D2;\n",
              "      height: 32px;\n",
              "      padding: 0 0 0 0;\n",
              "      width: 32px;\n",
              "    }\n",
              "\n",
              "    .colab-df-convert:hover {\n",
              "      background-color: #E2EBFA;\n",
              "      box-shadow: 0px 1px 2px rgba(60, 64, 67, 0.3), 0px 1px 3px 1px rgba(60, 64, 67, 0.15);\n",
              "      fill: #174EA6;\n",
              "    }\n",
              "\n",
              "    .colab-df-buttons div {\n",
              "      margin-bottom: 4px;\n",
              "    }\n",
              "\n",
              "    [theme=dark] .colab-df-convert {\n",
              "      background-color: #3B4455;\n",
              "      fill: #D2E3FC;\n",
              "    }\n",
              "\n",
              "    [theme=dark] .colab-df-convert:hover {\n",
              "      background-color: #434B5C;\n",
              "      box-shadow: 0px 1px 3px 1px rgba(0, 0, 0, 0.15);\n",
              "      filter: drop-shadow(0px 1px 2px rgba(0, 0, 0, 0.3));\n",
              "      fill: #FFFFFF;\n",
              "    }\n",
              "  </style>\n",
              "\n",
              "    <script>\n",
              "      const buttonEl =\n",
              "        document.querySelector('#df-cf99a219-f1d3-408c-9aee-0103b496183b button.colab-df-convert');\n",
              "      buttonEl.style.display =\n",
              "        google.colab.kernel.accessAllowed ? 'block' : 'none';\n",
              "\n",
              "      async function convertToInteractive(key) {\n",
              "        const element = document.querySelector('#df-cf99a219-f1d3-408c-9aee-0103b496183b');\n",
              "        const dataTable =\n",
              "          await google.colab.kernel.invokeFunction('convertToInteractive',\n",
              "                                                    [key], {});\n",
              "        if (!dataTable) return;\n",
              "\n",
              "        const docLinkHtml = 'Like what you see? Visit the ' +\n",
              "          '<a target=\"_blank\" href=https://colab.research.google.com/notebooks/data_table.ipynb>data table notebook</a>'\n",
              "          + ' to learn more about interactive tables.';\n",
              "        element.innerHTML = '';\n",
              "        dataTable['output_type'] = 'display_data';\n",
              "        await google.colab.output.renderOutput(dataTable, element);\n",
              "        const docLink = document.createElement('div');\n",
              "        docLink.innerHTML = docLinkHtml;\n",
              "        element.appendChild(docLink);\n",
              "      }\n",
              "    </script>\n",
              "  </div>\n",
              "\n",
              "\n",
              "<div id=\"df-7fdd4ae3-f0fc-42d7-a642-4d6648fcf5df\">\n",
              "  <button class=\"colab-df-quickchart\" onclick=\"quickchart('df-7fdd4ae3-f0fc-42d7-a642-4d6648fcf5df')\"\n",
              "            title=\"Suggest charts\"\n",
              "            style=\"display:none;\">\n",
              "\n",
              "<svg xmlns=\"http://www.w3.org/2000/svg\" height=\"24px\"viewBox=\"0 0 24 24\"\n",
              "     width=\"24px\">\n",
              "    <g>\n",
              "        <path d=\"M19 3H5c-1.1 0-2 .9-2 2v14c0 1.1.9 2 2 2h14c1.1 0 2-.9 2-2V5c0-1.1-.9-2-2-2zM9 17H7v-7h2v7zm4 0h-2V7h2v10zm4 0h-2v-4h2v4z\"/>\n",
              "    </g>\n",
              "</svg>\n",
              "  </button>\n",
              "\n",
              "<style>\n",
              "  .colab-df-quickchart {\n",
              "      --bg-color: #E8F0FE;\n",
              "      --fill-color: #1967D2;\n",
              "      --hover-bg-color: #E2EBFA;\n",
              "      --hover-fill-color: #174EA6;\n",
              "      --disabled-fill-color: #AAA;\n",
              "      --disabled-bg-color: #DDD;\n",
              "  }\n",
              "\n",
              "  [theme=dark] .colab-df-quickchart {\n",
              "      --bg-color: #3B4455;\n",
              "      --fill-color: #D2E3FC;\n",
              "      --hover-bg-color: #434B5C;\n",
              "      --hover-fill-color: #FFFFFF;\n",
              "      --disabled-bg-color: #3B4455;\n",
              "      --disabled-fill-color: #666;\n",
              "  }\n",
              "\n",
              "  .colab-df-quickchart {\n",
              "    background-color: var(--bg-color);\n",
              "    border: none;\n",
              "    border-radius: 50%;\n",
              "    cursor: pointer;\n",
              "    display: none;\n",
              "    fill: var(--fill-color);\n",
              "    height: 32px;\n",
              "    padding: 0;\n",
              "    width: 32px;\n",
              "  }\n",
              "\n",
              "  .colab-df-quickchart:hover {\n",
              "    background-color: var(--hover-bg-color);\n",
              "    box-shadow: 0 1px 2px rgba(60, 64, 67, 0.3), 0 1px 3px 1px rgba(60, 64, 67, 0.15);\n",
              "    fill: var(--button-hover-fill-color);\n",
              "  }\n",
              "\n",
              "  .colab-df-quickchart-complete:disabled,\n",
              "  .colab-df-quickchart-complete:disabled:hover {\n",
              "    background-color: var(--disabled-bg-color);\n",
              "    fill: var(--disabled-fill-color);\n",
              "    box-shadow: none;\n",
              "  }\n",
              "\n",
              "  .colab-df-spinner {\n",
              "    border: 2px solid var(--fill-color);\n",
              "    border-color: transparent;\n",
              "    border-bottom-color: var(--fill-color);\n",
              "    animation:\n",
              "      spin 1s steps(1) infinite;\n",
              "  }\n",
              "\n",
              "  @keyframes spin {\n",
              "    0% {\n",
              "      border-color: transparent;\n",
              "      border-bottom-color: var(--fill-color);\n",
              "      border-left-color: var(--fill-color);\n",
              "    }\n",
              "    20% {\n",
              "      border-color: transparent;\n",
              "      border-left-color: var(--fill-color);\n",
              "      border-top-color: var(--fill-color);\n",
              "    }\n",
              "    30% {\n",
              "      border-color: transparent;\n",
              "      border-left-color: var(--fill-color);\n",
              "      border-top-color: var(--fill-color);\n",
              "      border-right-color: var(--fill-color);\n",
              "    }\n",
              "    40% {\n",
              "      border-color: transparent;\n",
              "      border-right-color: var(--fill-color);\n",
              "      border-top-color: var(--fill-color);\n",
              "    }\n",
              "    60% {\n",
              "      border-color: transparent;\n",
              "      border-right-color: var(--fill-color);\n",
              "    }\n",
              "    80% {\n",
              "      border-color: transparent;\n",
              "      border-right-color: var(--fill-color);\n",
              "      border-bottom-color: var(--fill-color);\n",
              "    }\n",
              "    90% {\n",
              "      border-color: transparent;\n",
              "      border-bottom-color: var(--fill-color);\n",
              "    }\n",
              "  }\n",
              "</style>\n",
              "\n",
              "  <script>\n",
              "    async function quickchart(key) {\n",
              "      const quickchartButtonEl =\n",
              "        document.querySelector('#' + key + ' button');\n",
              "      quickchartButtonEl.disabled = true;  // To prevent multiple clicks.\n",
              "      quickchartButtonEl.classList.add('colab-df-spinner');\n",
              "      try {\n",
              "        const charts = await google.colab.kernel.invokeFunction(\n",
              "            'suggestCharts', [key], {});\n",
              "      } catch (error) {\n",
              "        console.error('Error during call to suggestCharts:', error);\n",
              "      }\n",
              "      quickchartButtonEl.classList.remove('colab-df-spinner');\n",
              "      quickchartButtonEl.classList.add('colab-df-quickchart-complete');\n",
              "    }\n",
              "    (() => {\n",
              "      let quickchartButtonEl =\n",
              "        document.querySelector('#df-7fdd4ae3-f0fc-42d7-a642-4d6648fcf5df button');\n",
              "      quickchartButtonEl.style.display =\n",
              "        google.colab.kernel.accessAllowed ? 'block' : 'none';\n",
              "    })();\n",
              "  </script>\n",
              "</div>\n",
              "\n",
              "  <div id=\"id_2e528ef7-e8dc-4f45-93a0-84357da79bb2\">\n",
              "    <style>\n",
              "      .colab-df-generate {\n",
              "        background-color: #E8F0FE;\n",
              "        border: none;\n",
              "        border-radius: 50%;\n",
              "        cursor: pointer;\n",
              "        display: none;\n",
              "        fill: #1967D2;\n",
              "        height: 32px;\n",
              "        padding: 0 0 0 0;\n",
              "        width: 32px;\n",
              "      }\n",
              "\n",
              "      .colab-df-generate:hover {\n",
              "        background-color: #E2EBFA;\n",
              "        box-shadow: 0px 1px 2px rgba(60, 64, 67, 0.3), 0px 1px 3px 1px rgba(60, 64, 67, 0.15);\n",
              "        fill: #174EA6;\n",
              "      }\n",
              "\n",
              "      [theme=dark] .colab-df-generate {\n",
              "        background-color: #3B4455;\n",
              "        fill: #D2E3FC;\n",
              "      }\n",
              "\n",
              "      [theme=dark] .colab-df-generate:hover {\n",
              "        background-color: #434B5C;\n",
              "        box-shadow: 0px 1px 3px 1px rgba(0, 0, 0, 0.15);\n",
              "        filter: drop-shadow(0px 1px 2px rgba(0, 0, 0, 0.3));\n",
              "        fill: #FFFFFF;\n",
              "      }\n",
              "    </style>\n",
              "    <button class=\"colab-df-generate\" onclick=\"generateWithVariable('df')\"\n",
              "            title=\"Generate code using this dataframe.\"\n",
              "            style=\"display:none;\">\n",
              "\n",
              "  <svg xmlns=\"http://www.w3.org/2000/svg\" height=\"24px\"viewBox=\"0 0 24 24\"\n",
              "       width=\"24px\">\n",
              "    <path d=\"M7,19H8.4L18.45,9,17,7.55,7,17.6ZM5,21V16.75L18.45,3.32a2,2,0,0,1,2.83,0l1.4,1.43a1.91,1.91,0,0,1,.58,1.4,1.91,1.91,0,0,1-.58,1.4L9.25,21ZM18.45,9,17,7.55Zm-12,3A5.31,5.31,0,0,0,4.9,8.1,5.31,5.31,0,0,0,1,6.5,5.31,5.31,0,0,0,4.9,4.9,5.31,5.31,0,0,0,6.5,1,5.31,5.31,0,0,0,8.1,4.9,5.31,5.31,0,0,0,12,6.5,5.46,5.46,0,0,0,6.5,12Z\"/>\n",
              "  </svg>\n",
              "    </button>\n",
              "    <script>\n",
              "      (() => {\n",
              "      const buttonEl =\n",
              "        document.querySelector('#id_2e528ef7-e8dc-4f45-93a0-84357da79bb2 button.colab-df-generate');\n",
              "      buttonEl.style.display =\n",
              "        google.colab.kernel.accessAllowed ? 'block' : 'none';\n",
              "\n",
              "      buttonEl.onclick = () => {\n",
              "        google.colab.notebook.generateWithVariable('df');\n",
              "      }\n",
              "      })();\n",
              "    </script>\n",
              "  </div>\n",
              "\n",
              "    </div>\n",
              "  </div>\n"
            ],
            "application/vnd.google.colaboratory.intrinsic+json": {
              "type": "dataframe",
              "variable_name": "df",
              "summary": "{\n  \"name\": \"df\",\n  \"rows\": 137,\n  \"fields\": [\n    {\n      \"column\": \"titulo\",\n      \"properties\": {\n        \"dtype\": \"string\",\n        \"num_unique_values\": 128,\n        \"samples\": [\n          \"Yo quer\\u00eda que ganar\\u00e1 Francia. ( No odio a los argentinos pero yo quer\\u00eda que ganar\\u00e1 Francia )\",\n          \"V\\u00cdDEO IN\\u00c9DITO DE THIAGO MESSI\",\n          \"Me cae bien Messi\"\n        ],\n        \"semantic_type\": \"\",\n        \"description\": \"\"\n      }\n    },\n    {\n      \"column\": \"texto\",\n      \"properties\": {\n        \"dtype\": \"string\",\n        \"num_unique_values\": 128,\n        \"samples\": [\n          \"Sinceramente yo quer\\u00eda que ganar\\u00e1 Francia, no es que yo odie a Messi o a la selecci\\u00f3n Argentina pero quer\\u00eda que Mbappe ganar\\u00e1 su segunda copa del mundo, y soy fan de Mbappe, tambien de Messi pero m\\u00e1s de Mbappe. No tiren Hate por mi opini\\u00f3n, si quieren opinar es preferible que sean opiniones destructivas o constructivas.\",\n          \"Thiago Messi emocionado por su pap\\u00e1 luego de que ganara la Copa del Mundo. Quien tambi\\u00e9n sufri\\u00f3 las fuertes cr\\u00edticas hacia su padre, quien sabe cuanto sufri\\u00f3 su pap\\u00e1... las l\\u00e1grimas son de completa felicidad, de completo desahogo.\",\n          \"Soy Chileno, en general sin \\u00e1nimos de ofender aunque tambi\\u00e9n me caen bien los argentinos o al menos no me caen mal, encuentro que tienen una idiosincrasia que los hace ser mas orgullosos que los dem\\u00e1s pa\\u00edses de Latinoam\\u00e9rica, lo digo de manera neutra sin hacer un juicio de valor.\\n\\nPero al ver a Messi veo a alguien super humilde, siento que tiene el ego muy bajo y a pesar de ser idolatrado y ser una mega estrella del futbol y ser un icono mundial y millonario, todo eso no se le sube a la cabeza y se ve en su forma de hablar, su actitud, sus expresiones, etc.\\n\\nPor eso me gust\\u00f3 cuando gan\\u00f3 el mundial, mas all\\u00e1 de todo otro factor futbol\\u00edstico, me parece que ver a alguien humilde que no se le suben los humos a la cabeza triunfar tanto y mantenerse humilde es algo muy positivo... sobre todo cuando es argentino ajajjajajajajaj bromaaaaa\"\n        ],\n        \"semantic_type\": \"\",\n        \"description\": \"\"\n      }\n    },\n    {\n      \"column\": \"autor\",\n      \"properties\": {\n        \"dtype\": \"string\",\n        \"num_unique_values\": 117,\n        \"samples\": [\n          \"Old-Calligrapher8084\",\n          \"Mafixo\",\n          \"TheGun1991\"\n        ],\n        \"semantic_type\": \"\",\n        \"description\": \"\"\n      }\n    },\n    {\n      \"column\": \"fecha\",\n      \"properties\": {\n        \"dtype\": \"date\",\n        \"min\": \"2021-01-04 07:34:39\",\n        \"max\": \"2024-12-25 13:49:48\",\n        \"num_unique_values\": 128,\n        \"samples\": [\n          \"2023-08-31 17:43:57\",\n          \"2023-07-23 03:23:08\",\n          \"2023-12-30 13:07:01\"\n        ],\n        \"semantic_type\": \"\",\n        \"description\": \"\"\n      }\n    },\n    {\n      \"column\": \"score\",\n      \"properties\": {\n        \"dtype\": \"number\",\n        \"std\": 175,\n        \"min\": 0,\n        \"max\": 1527,\n        \"num_unique_values\": 52,\n        \"samples\": [\n          179,\n          4,\n          115\n        ],\n        \"semantic_type\": \"\",\n        \"description\": \"\"\n      }\n    },\n    {\n      \"column\": \"comentarios\",\n      \"properties\": {\n        \"dtype\": \"number\",\n        \"std\": 52,\n        \"min\": 0,\n        \"max\": 341,\n        \"num_unique_values\": 60,\n        \"samples\": [\n          35,\n          12,\n          50\n        ],\n        \"semantic_type\": \"\",\n        \"description\": \"\"\n      }\n    },\n    {\n      \"column\": \"link\",\n      \"properties\": {\n        \"dtype\": \"string\",\n        \"num_unique_values\": 128,\n        \"samples\": [\n          \"https://i.redd.it/d5wyg6sdghlb1.jpg\",\n          \"https://v.redd.it/td1y9wv8vmdb1\",\n          \"https://www.reddit.com/r/argentina/comments/18uf9sf/me_cae_bien_messi/\"\n        ],\n        \"semantic_type\": \"\",\n        \"description\": \"\"\n      }\n    },\n    {\n      \"column\": \"jugador\",\n      \"properties\": {\n        \"dtype\": \"category\",\n        \"num_unique_values\": 2,\n        \"samples\": [\n          \"Maradona\",\n          \"Messi\"\n        ],\n        \"semantic_type\": \"\",\n        \"description\": \"\"\n      }\n    }\n  ]\n}"
            }
          },
          "metadata": {},
          "execution_count": 14
        }
      ],
      "source": [
        "df"
      ]
    },
    {
      "cell_type": "markdown",
      "metadata": {
        "id": "jSPUgQ1lFHWB"
      },
      "source": [
        "## 4️⃣ Mine – Análisis de sentimiento 💬\n",
        "\n",
        "**Objetivo:** Extraer valor o patrones desde los datos.\n",
        "\n",
        "**En este proyecto:** Aplicamos un modelo de `transformers` multilingüe (`bert-base-multilingual-uncased-sentiment`) para estimar el **sentimiento** de cada post.\n",
        "\n",
        "🔢 El modelo devuelve una escala de **1 a 5 estrellas**:\n",
        "- ⭐ 1 = muy negativo\n",
        "- ⭐ 3 = neutral\n",
        "- ⭐ 5 = muy positivo\n",
        "\n",
        "Así logramos cuantificar el tono emocional de las opiniones expresadas."
      ]
    },
    {
      "cell_type": "markdown",
      "metadata": {
        "id": "15b08db5"
      },
      "source": [
        "### 🤖 Carga del modelo de sentimiento\n",
        "Usamos un modelo preentrenado para analizar el tono emocional de cada publicación."
      ]
    },
    {
      "cell_type": "code",
      "execution_count": 15,
      "metadata": {
        "colab": {
          "base_uri": "https://localhost:8080/"
        },
        "id": "iJbp-Ev1w67h",
        "outputId": "b199e04d-0c6b-4e47-e366-ca33a0b6c19e"
      },
      "outputs": [
        {
          "output_type": "stream",
          "name": "stderr",
          "text": [
            "Device set to use cpu\n"
          ]
        }
      ],
      "source": [
        "from transformers import pipeline\n",
        "\n",
        "clasificador = pipeline(\"sentiment-analysis\", model=\"nlptown/bert-base-multilingual-uncased-sentiment\")"
      ]
    },
    {
      "cell_type": "markdown",
      "metadata": {
        "id": "d7390fed"
      },
      "source": [
        "### 📊 Función para aplicar el modelo de sentimiento\n",
        "Toma un texto y devuelve la predicción del modelo (de 1 a 5 estrellas)."
      ]
    },
    {
      "cell_type": "code",
      "execution_count": 16,
      "metadata": {
        "id": "-ijO8YIbw9h6"
      },
      "outputs": [],
      "source": [
        "def sentimiento_transformers(texto):\n",
        "    try:\n",
        "        resultado = clasificador(texto[:512])[0]  # Limita a 512 tokens\n",
        "        return resultado['label']\n",
        "    except:\n",
        "        return \"error\""
      ]
    },
    {
      "cell_type": "markdown",
      "metadata": {
        "id": "57ec52ae"
      },
      "source": [
        "### 🧪 Aplicación del análisis de sentimiento\n",
        "Agregamos una columna al DataFrame con las estrellas estimadas para cada post."
      ]
    },
    {
      "cell_type": "code",
      "execution_count": 17,
      "metadata": {
        "colab": {
          "base_uri": "https://localhost:8080/",
          "height": 272
        },
        "id": "N6iZDQ3Iw_de",
        "outputId": "fcdaebd7-bf56-4e28-b097-bb96d575b75f"
      },
      "outputs": [
        {
          "output_type": "execute_result",
          "data": {
            "text/plain": [
              "sentimiento_stars\n",
              "1 star     50\n",
              "5 stars    43\n",
              "2 stars    22\n",
              "4 stars    11\n",
              "3 stars    11\n",
              "Name: count, dtype: int64"
            ],
            "text/html": [
              "<div>\n",
              "<style scoped>\n",
              "    .dataframe tbody tr th:only-of-type {\n",
              "        vertical-align: middle;\n",
              "    }\n",
              "\n",
              "    .dataframe tbody tr th {\n",
              "        vertical-align: top;\n",
              "    }\n",
              "\n",
              "    .dataframe thead th {\n",
              "        text-align: right;\n",
              "    }\n",
              "</style>\n",
              "<table border=\"1\" class=\"dataframe\">\n",
              "  <thead>\n",
              "    <tr style=\"text-align: right;\">\n",
              "      <th></th>\n",
              "      <th>count</th>\n",
              "    </tr>\n",
              "    <tr>\n",
              "      <th>sentimiento_stars</th>\n",
              "      <th></th>\n",
              "    </tr>\n",
              "  </thead>\n",
              "  <tbody>\n",
              "    <tr>\n",
              "      <th>1 star</th>\n",
              "      <td>50</td>\n",
              "    </tr>\n",
              "    <tr>\n",
              "      <th>5 stars</th>\n",
              "      <td>43</td>\n",
              "    </tr>\n",
              "    <tr>\n",
              "      <th>2 stars</th>\n",
              "      <td>22</td>\n",
              "    </tr>\n",
              "    <tr>\n",
              "      <th>4 stars</th>\n",
              "      <td>11</td>\n",
              "    </tr>\n",
              "    <tr>\n",
              "      <th>3 stars</th>\n",
              "      <td>11</td>\n",
              "    </tr>\n",
              "  </tbody>\n",
              "</table>\n",
              "</div><br><label><b>dtype:</b> int64</label>"
            ]
          },
          "metadata": {},
          "execution_count": 17
        }
      ],
      "source": [
        "df['sentimiento_stars'] = df['texto'].apply(sentimiento_transformers)\n",
        "df['sentimiento_stars'].value_counts()\n"
      ]
    },
    {
      "cell_type": "code",
      "source": [
        "# prompt: quisiera mostrar los textos de df, el jugador (como primera columna) y la cantidad de estrellas. Quisiera el texto completo y no cortado en pantalla.\n",
        "\n",
        "import pandas as pd\n",
        "\n",
        "df[['jugador', 'titulo', 'sentimiento_stars']]\n"
      ],
      "metadata": {
        "colab": {
          "base_uri": "https://localhost:8080/",
          "height": 423
        },
        "id": "lvm3KURH4qPK",
        "outputId": "3f1f217c-d919-4be8-de39-40eb7d428772"
      },
      "execution_count": 18,
      "outputs": [
        {
          "output_type": "execute_result",
          "data": {
            "text/plain": [
              "      jugador                                             titulo  \\\n",
              "0       Messi  Post-Match Thread: Argentina 1-0 Peru | World ...   \n",
              "1       Messi  Ustedes creen que messi sera el ultimo mejor j...   \n",
              "2       Messi                Argentinos, ¿que les impresiona mas   \n",
              "3       Messi                                  Gracias Argentina   \n",
              "4       Messi                   La pagina que hice salio el OLGA   \n",
              "..        ...                                                ...   \n",
              "132  Maradona  Comparación de Diego Armando Maradona y Lionel...   \n",
              "133  Maradona   Muere 'O rei' Pelé, leyenda del fútbol brasileño   \n",
              "134  Maradona  Que bien le hará al fútbol que los dos más gra...   \n",
              "135  Maradona                               Opinión poco popular   \n",
              "136  Maradona                ¿Que Frase le Regalarías al Diego?.   \n",
              "\n",
              "    sentimiento_stars  \n",
              "0             4 stars  \n",
              "1             3 stars  \n",
              "2             5 stars  \n",
              "3              1 star  \n",
              "4             2 stars  \n",
              "..                ...  \n",
              "132           5 stars  \n",
              "133            1 star  \n",
              "134           2 stars  \n",
              "135            1 star  \n",
              "136            1 star  \n",
              "\n",
              "[137 rows x 3 columns]"
            ],
            "text/html": [
              "\n",
              "  <div id=\"df-af1ffd73-798d-4d2e-8aeb-29e393b9de31\" class=\"colab-df-container\">\n",
              "    <div>\n",
              "<style scoped>\n",
              "    .dataframe tbody tr th:only-of-type {\n",
              "        vertical-align: middle;\n",
              "    }\n",
              "\n",
              "    .dataframe tbody tr th {\n",
              "        vertical-align: top;\n",
              "    }\n",
              "\n",
              "    .dataframe thead th {\n",
              "        text-align: right;\n",
              "    }\n",
              "</style>\n",
              "<table border=\"1\" class=\"dataframe\">\n",
              "  <thead>\n",
              "    <tr style=\"text-align: right;\">\n",
              "      <th></th>\n",
              "      <th>jugador</th>\n",
              "      <th>titulo</th>\n",
              "      <th>sentimiento_stars</th>\n",
              "    </tr>\n",
              "  </thead>\n",
              "  <tbody>\n",
              "    <tr>\n",
              "      <th>0</th>\n",
              "      <td>Messi</td>\n",
              "      <td>Post-Match Thread: Argentina 1-0 Peru | World ...</td>\n",
              "      <td>4 stars</td>\n",
              "    </tr>\n",
              "    <tr>\n",
              "      <th>1</th>\n",
              "      <td>Messi</td>\n",
              "      <td>Ustedes creen que messi sera el ultimo mejor j...</td>\n",
              "      <td>3 stars</td>\n",
              "    </tr>\n",
              "    <tr>\n",
              "      <th>2</th>\n",
              "      <td>Messi</td>\n",
              "      <td>Argentinos, ¿que les impresiona mas</td>\n",
              "      <td>5 stars</td>\n",
              "    </tr>\n",
              "    <tr>\n",
              "      <th>3</th>\n",
              "      <td>Messi</td>\n",
              "      <td>Gracias Argentina</td>\n",
              "      <td>1 star</td>\n",
              "    </tr>\n",
              "    <tr>\n",
              "      <th>4</th>\n",
              "      <td>Messi</td>\n",
              "      <td>La pagina que hice salio el OLGA</td>\n",
              "      <td>2 stars</td>\n",
              "    </tr>\n",
              "    <tr>\n",
              "      <th>...</th>\n",
              "      <td>...</td>\n",
              "      <td>...</td>\n",
              "      <td>...</td>\n",
              "    </tr>\n",
              "    <tr>\n",
              "      <th>132</th>\n",
              "      <td>Maradona</td>\n",
              "      <td>Comparación de Diego Armando Maradona y Lionel...</td>\n",
              "      <td>5 stars</td>\n",
              "    </tr>\n",
              "    <tr>\n",
              "      <th>133</th>\n",
              "      <td>Maradona</td>\n",
              "      <td>Muere 'O rei' Pelé, leyenda del fútbol brasileño</td>\n",
              "      <td>1 star</td>\n",
              "    </tr>\n",
              "    <tr>\n",
              "      <th>134</th>\n",
              "      <td>Maradona</td>\n",
              "      <td>Que bien le hará al fútbol que los dos más gra...</td>\n",
              "      <td>2 stars</td>\n",
              "    </tr>\n",
              "    <tr>\n",
              "      <th>135</th>\n",
              "      <td>Maradona</td>\n",
              "      <td>Opinión poco popular</td>\n",
              "      <td>1 star</td>\n",
              "    </tr>\n",
              "    <tr>\n",
              "      <th>136</th>\n",
              "      <td>Maradona</td>\n",
              "      <td>¿Que Frase le Regalarías al Diego?.</td>\n",
              "      <td>1 star</td>\n",
              "    </tr>\n",
              "  </tbody>\n",
              "</table>\n",
              "<p>137 rows × 3 columns</p>\n",
              "</div>\n",
              "    <div class=\"colab-df-buttons\">\n",
              "\n",
              "  <div class=\"colab-df-container\">\n",
              "    <button class=\"colab-df-convert\" onclick=\"convertToInteractive('df-af1ffd73-798d-4d2e-8aeb-29e393b9de31')\"\n",
              "            title=\"Convert this dataframe to an interactive table.\"\n",
              "            style=\"display:none;\">\n",
              "\n",
              "  <svg xmlns=\"http://www.w3.org/2000/svg\" height=\"24px\" viewBox=\"0 -960 960 960\">\n",
              "    <path d=\"M120-120v-720h720v720H120Zm60-500h600v-160H180v160Zm220 220h160v-160H400v160Zm0 220h160v-160H400v160ZM180-400h160v-160H180v160Zm440 0h160v-160H620v160ZM180-180h160v-160H180v160Zm440 0h160v-160H620v160Z\"/>\n",
              "  </svg>\n",
              "    </button>\n",
              "\n",
              "  <style>\n",
              "    .colab-df-container {\n",
              "      display:flex;\n",
              "      gap: 12px;\n",
              "    }\n",
              "\n",
              "    .colab-df-convert {\n",
              "      background-color: #E8F0FE;\n",
              "      border: none;\n",
              "      border-radius: 50%;\n",
              "      cursor: pointer;\n",
              "      display: none;\n",
              "      fill: #1967D2;\n",
              "      height: 32px;\n",
              "      padding: 0 0 0 0;\n",
              "      width: 32px;\n",
              "    }\n",
              "\n",
              "    .colab-df-convert:hover {\n",
              "      background-color: #E2EBFA;\n",
              "      box-shadow: 0px 1px 2px rgba(60, 64, 67, 0.3), 0px 1px 3px 1px rgba(60, 64, 67, 0.15);\n",
              "      fill: #174EA6;\n",
              "    }\n",
              "\n",
              "    .colab-df-buttons div {\n",
              "      margin-bottom: 4px;\n",
              "    }\n",
              "\n",
              "    [theme=dark] .colab-df-convert {\n",
              "      background-color: #3B4455;\n",
              "      fill: #D2E3FC;\n",
              "    }\n",
              "\n",
              "    [theme=dark] .colab-df-convert:hover {\n",
              "      background-color: #434B5C;\n",
              "      box-shadow: 0px 1px 3px 1px rgba(0, 0, 0, 0.15);\n",
              "      filter: drop-shadow(0px 1px 2px rgba(0, 0, 0, 0.3));\n",
              "      fill: #FFFFFF;\n",
              "    }\n",
              "  </style>\n",
              "\n",
              "    <script>\n",
              "      const buttonEl =\n",
              "        document.querySelector('#df-af1ffd73-798d-4d2e-8aeb-29e393b9de31 button.colab-df-convert');\n",
              "      buttonEl.style.display =\n",
              "        google.colab.kernel.accessAllowed ? 'block' : 'none';\n",
              "\n",
              "      async function convertToInteractive(key) {\n",
              "        const element = document.querySelector('#df-af1ffd73-798d-4d2e-8aeb-29e393b9de31');\n",
              "        const dataTable =\n",
              "          await google.colab.kernel.invokeFunction('convertToInteractive',\n",
              "                                                    [key], {});\n",
              "        if (!dataTable) return;\n",
              "\n",
              "        const docLinkHtml = 'Like what you see? Visit the ' +\n",
              "          '<a target=\"_blank\" href=https://colab.research.google.com/notebooks/data_table.ipynb>data table notebook</a>'\n",
              "          + ' to learn more about interactive tables.';\n",
              "        element.innerHTML = '';\n",
              "        dataTable['output_type'] = 'display_data';\n",
              "        await google.colab.output.renderOutput(dataTable, element);\n",
              "        const docLink = document.createElement('div');\n",
              "        docLink.innerHTML = docLinkHtml;\n",
              "        element.appendChild(docLink);\n",
              "      }\n",
              "    </script>\n",
              "  </div>\n",
              "\n",
              "\n",
              "<div id=\"df-52598212-486e-40b7-8950-feef5a1a6fed\">\n",
              "  <button class=\"colab-df-quickchart\" onclick=\"quickchart('df-52598212-486e-40b7-8950-feef5a1a6fed')\"\n",
              "            title=\"Suggest charts\"\n",
              "            style=\"display:none;\">\n",
              "\n",
              "<svg xmlns=\"http://www.w3.org/2000/svg\" height=\"24px\"viewBox=\"0 0 24 24\"\n",
              "     width=\"24px\">\n",
              "    <g>\n",
              "        <path d=\"M19 3H5c-1.1 0-2 .9-2 2v14c0 1.1.9 2 2 2h14c1.1 0 2-.9 2-2V5c0-1.1-.9-2-2-2zM9 17H7v-7h2v7zm4 0h-2V7h2v10zm4 0h-2v-4h2v4z\"/>\n",
              "    </g>\n",
              "</svg>\n",
              "  </button>\n",
              "\n",
              "<style>\n",
              "  .colab-df-quickchart {\n",
              "      --bg-color: #E8F0FE;\n",
              "      --fill-color: #1967D2;\n",
              "      --hover-bg-color: #E2EBFA;\n",
              "      --hover-fill-color: #174EA6;\n",
              "      --disabled-fill-color: #AAA;\n",
              "      --disabled-bg-color: #DDD;\n",
              "  }\n",
              "\n",
              "  [theme=dark] .colab-df-quickchart {\n",
              "      --bg-color: #3B4455;\n",
              "      --fill-color: #D2E3FC;\n",
              "      --hover-bg-color: #434B5C;\n",
              "      --hover-fill-color: #FFFFFF;\n",
              "      --disabled-bg-color: #3B4455;\n",
              "      --disabled-fill-color: #666;\n",
              "  }\n",
              "\n",
              "  .colab-df-quickchart {\n",
              "    background-color: var(--bg-color);\n",
              "    border: none;\n",
              "    border-radius: 50%;\n",
              "    cursor: pointer;\n",
              "    display: none;\n",
              "    fill: var(--fill-color);\n",
              "    height: 32px;\n",
              "    padding: 0;\n",
              "    width: 32px;\n",
              "  }\n",
              "\n",
              "  .colab-df-quickchart:hover {\n",
              "    background-color: var(--hover-bg-color);\n",
              "    box-shadow: 0 1px 2px rgba(60, 64, 67, 0.3), 0 1px 3px 1px rgba(60, 64, 67, 0.15);\n",
              "    fill: var(--button-hover-fill-color);\n",
              "  }\n",
              "\n",
              "  .colab-df-quickchart-complete:disabled,\n",
              "  .colab-df-quickchart-complete:disabled:hover {\n",
              "    background-color: var(--disabled-bg-color);\n",
              "    fill: var(--disabled-fill-color);\n",
              "    box-shadow: none;\n",
              "  }\n",
              "\n",
              "  .colab-df-spinner {\n",
              "    border: 2px solid var(--fill-color);\n",
              "    border-color: transparent;\n",
              "    border-bottom-color: var(--fill-color);\n",
              "    animation:\n",
              "      spin 1s steps(1) infinite;\n",
              "  }\n",
              "\n",
              "  @keyframes spin {\n",
              "    0% {\n",
              "      border-color: transparent;\n",
              "      border-bottom-color: var(--fill-color);\n",
              "      border-left-color: var(--fill-color);\n",
              "    }\n",
              "    20% {\n",
              "      border-color: transparent;\n",
              "      border-left-color: var(--fill-color);\n",
              "      border-top-color: var(--fill-color);\n",
              "    }\n",
              "    30% {\n",
              "      border-color: transparent;\n",
              "      border-left-color: var(--fill-color);\n",
              "      border-top-color: var(--fill-color);\n",
              "      border-right-color: var(--fill-color);\n",
              "    }\n",
              "    40% {\n",
              "      border-color: transparent;\n",
              "      border-right-color: var(--fill-color);\n",
              "      border-top-color: var(--fill-color);\n",
              "    }\n",
              "    60% {\n",
              "      border-color: transparent;\n",
              "      border-right-color: var(--fill-color);\n",
              "    }\n",
              "    80% {\n",
              "      border-color: transparent;\n",
              "      border-right-color: var(--fill-color);\n",
              "      border-bottom-color: var(--fill-color);\n",
              "    }\n",
              "    90% {\n",
              "      border-color: transparent;\n",
              "      border-bottom-color: var(--fill-color);\n",
              "    }\n",
              "  }\n",
              "</style>\n",
              "\n",
              "  <script>\n",
              "    async function quickchart(key) {\n",
              "      const quickchartButtonEl =\n",
              "        document.querySelector('#' + key + ' button');\n",
              "      quickchartButtonEl.disabled = true;  // To prevent multiple clicks.\n",
              "      quickchartButtonEl.classList.add('colab-df-spinner');\n",
              "      try {\n",
              "        const charts = await google.colab.kernel.invokeFunction(\n",
              "            'suggestCharts', [key], {});\n",
              "      } catch (error) {\n",
              "        console.error('Error during call to suggestCharts:', error);\n",
              "      }\n",
              "      quickchartButtonEl.classList.remove('colab-df-spinner');\n",
              "      quickchartButtonEl.classList.add('colab-df-quickchart-complete');\n",
              "    }\n",
              "    (() => {\n",
              "      let quickchartButtonEl =\n",
              "        document.querySelector('#df-52598212-486e-40b7-8950-feef5a1a6fed button');\n",
              "      quickchartButtonEl.style.display =\n",
              "        google.colab.kernel.accessAllowed ? 'block' : 'none';\n",
              "    })();\n",
              "  </script>\n",
              "</div>\n",
              "\n",
              "    </div>\n",
              "  </div>\n"
            ],
            "application/vnd.google.colaboratory.intrinsic+json": {
              "type": "dataframe",
              "summary": "{\n  \"name\": \"df[['jugador', 'titulo', 'sentimiento_stars']]\",\n  \"rows\": 137,\n  \"fields\": [\n    {\n      \"column\": \"jugador\",\n      \"properties\": {\n        \"dtype\": \"category\",\n        \"num_unique_values\": 2,\n        \"samples\": [\n          \"Maradona\",\n          \"Messi\"\n        ],\n        \"semantic_type\": \"\",\n        \"description\": \"\"\n      }\n    },\n    {\n      \"column\": \"titulo\",\n      \"properties\": {\n        \"dtype\": \"string\",\n        \"num_unique_values\": 128,\n        \"samples\": [\n          \"Yo quer\\u00eda que ganar\\u00e1 Francia. ( No odio a los argentinos pero yo quer\\u00eda que ganar\\u00e1 Francia )\",\n          \"V\\u00cdDEO IN\\u00c9DITO DE THIAGO MESSI\"\n        ],\n        \"semantic_type\": \"\",\n        \"description\": \"\"\n      }\n    },\n    {\n      \"column\": \"sentimiento_stars\",\n      \"properties\": {\n        \"dtype\": \"category\",\n        \"num_unique_values\": 5,\n        \"samples\": [\n          \"3 stars\",\n          \"2 stars\"\n        ],\n        \"semantic_type\": \"\",\n        \"description\": \"\"\n      }\n    }\n  ]\n}"
            }
          },
          "metadata": {},
          "execution_count": 18
        }
      ]
    },
    {
      "cell_type": "markdown",
      "source": [
        "Transformamos esas estrellas a un valor entero:"
      ],
      "metadata": {
        "id": "lgNDVLJ832uD"
      }
    },
    {
      "cell_type": "code",
      "execution_count": 19,
      "metadata": {
        "id": "kFoBl9p1xP6L"
      },
      "outputs": [],
      "source": [
        "df['sentimiento'] = df['sentimiento_stars'].str.extract('(\\d)').astype(int)"
      ]
    },
    {
      "cell_type": "code",
      "execution_count": 20,
      "metadata": {
        "colab": {
          "base_uri": "https://localhost:8080/",
          "height": 272
        },
        "id": "31vJgm7dyt2m",
        "outputId": "36ae616c-c4a4-406d-b7b3-2e14c815b62f"
      },
      "outputs": [
        {
          "output_type": "execute_result",
          "data": {
            "text/plain": [
              "sentimiento\n",
              "1    50\n",
              "5    43\n",
              "2    22\n",
              "4    11\n",
              "3    11\n",
              "Name: count, dtype: int64"
            ],
            "text/html": [
              "<div>\n",
              "<style scoped>\n",
              "    .dataframe tbody tr th:only-of-type {\n",
              "        vertical-align: middle;\n",
              "    }\n",
              "\n",
              "    .dataframe tbody tr th {\n",
              "        vertical-align: top;\n",
              "    }\n",
              "\n",
              "    .dataframe thead th {\n",
              "        text-align: right;\n",
              "    }\n",
              "</style>\n",
              "<table border=\"1\" class=\"dataframe\">\n",
              "  <thead>\n",
              "    <tr style=\"text-align: right;\">\n",
              "      <th></th>\n",
              "      <th>count</th>\n",
              "    </tr>\n",
              "    <tr>\n",
              "      <th>sentimiento</th>\n",
              "      <th></th>\n",
              "    </tr>\n",
              "  </thead>\n",
              "  <tbody>\n",
              "    <tr>\n",
              "      <th>1</th>\n",
              "      <td>50</td>\n",
              "    </tr>\n",
              "    <tr>\n",
              "      <th>5</th>\n",
              "      <td>43</td>\n",
              "    </tr>\n",
              "    <tr>\n",
              "      <th>2</th>\n",
              "      <td>22</td>\n",
              "    </tr>\n",
              "    <tr>\n",
              "      <th>4</th>\n",
              "      <td>11</td>\n",
              "    </tr>\n",
              "    <tr>\n",
              "      <th>3</th>\n",
              "      <td>11</td>\n",
              "    </tr>\n",
              "  </tbody>\n",
              "</table>\n",
              "</div><br><label><b>dtype:</b> int64</label>"
            ]
          },
          "metadata": {},
          "execution_count": 20
        }
      ],
      "source": [
        "df['sentimiento'].value_counts()"
      ]
    },
    {
      "cell_type": "code",
      "execution_count": 21,
      "metadata": {
        "colab": {
          "base_uri": "https://localhost:8080/",
          "height": 17
        },
        "id": "_IfNVMwpzc8u",
        "outputId": "4940166e-d626-44ab-eae6-92866dc969a1"
      },
      "outputs": [
        {
          "output_type": "display_data",
          "data": {
            "text/plain": [
              "<IPython.core.display.Javascript object>"
            ],
            "application/javascript": [
              "\n",
              "    async function download(id, filename, size) {\n",
              "      if (!google.colab.kernel.accessAllowed) {\n",
              "        return;\n",
              "      }\n",
              "      const div = document.createElement('div');\n",
              "      const label = document.createElement('label');\n",
              "      label.textContent = `Downloading \"${filename}\": `;\n",
              "      div.appendChild(label);\n",
              "      const progress = document.createElement('progress');\n",
              "      progress.max = size;\n",
              "      div.appendChild(progress);\n",
              "      document.body.appendChild(div);\n",
              "\n",
              "      const buffers = [];\n",
              "      let downloaded = 0;\n",
              "\n",
              "      const channel = await google.colab.kernel.comms.open(id);\n",
              "      // Send a message to notify the kernel that we're ready.\n",
              "      channel.send({})\n",
              "\n",
              "      for await (const message of channel.messages) {\n",
              "        // Send a message to notify the kernel that we're ready.\n",
              "        channel.send({})\n",
              "        if (message.buffers) {\n",
              "          for (const buffer of message.buffers) {\n",
              "            buffers.push(buffer);\n",
              "            downloaded += buffer.byteLength;\n",
              "            progress.value = downloaded;\n",
              "          }\n",
              "        }\n",
              "      }\n",
              "      const blob = new Blob(buffers, {type: 'application/binary'});\n",
              "      const a = document.createElement('a');\n",
              "      a.href = window.URL.createObjectURL(blob);\n",
              "      a.download = filename;\n",
              "      div.appendChild(a);\n",
              "      a.click();\n",
              "      div.remove();\n",
              "    }\n",
              "  "
            ]
          },
          "metadata": {}
        },
        {
          "output_type": "display_data",
          "data": {
            "text/plain": [
              "<IPython.core.display.Javascript object>"
            ],
            "application/javascript": [
              "download(\"download_d9d8c820-2fbb-48b4-b476-e0c135799857\", \"posts_con_sentimiento.csv\", 215521)"
            ]
          },
          "metadata": {}
        }
      ],
      "source": [
        "df.to_csv(\"posts_con_sentimiento.csv\", index=False)\n",
        "files.download(\"posts_con_sentimiento.csv\")"
      ]
    },
    {
      "cell_type": "markdown",
      "metadata": {
        "id": "99WH5qNuzwN1"
      },
      "source": [
        "## 5️⃣ Represent – Visualización 📊\n",
        "\n",
        "**Objetivo:** Mostrar los datos de manera clara y comprensible.\n",
        "\n",
        "**En este proyecto:** Visualizamos la distribución del sentimiento con gráficos de barras:\n",
        "\n",
        "- Usamos proporciones en lugar de cantidades absolutas\n",
        "- Aplicamos una paleta de colores inspirada en la camiseta argentina 🇦🇷\n",
        "- Incluimos etiquetas con porcentajes en cada barra\n",
        "\n",
        "Esto permite comparar visualmente la percepción pública de cada jugador."
      ]
    },
    {
      "cell_type": "markdown",
      "metadata": {
        "id": "e26e4b7b"
      },
      "source": [
        "### 🧪 Aplicación del análisis de sentimiento\n",
        "Agregamos una columna al DataFrame con las estrellas estimadas para cada post."
      ]
    },
    {
      "cell_type": "code",
      "execution_count": 22,
      "metadata": {
        "colab": {
          "base_uri": "https://localhost:8080/",
          "height": 363
        },
        "id": "BXnOeFb3zvje",
        "outputId": "aaa55d8a-f36a-437a-f396-dd39876c1388"
      },
      "outputs": [
        {
          "output_type": "execute_result",
          "data": {
            "text/plain": [
              "    jugador  sentimiento  cantidad  porcentaje\n",
              "0  Maradona            1        19   31.666667\n",
              "1  Maradona            2        10   16.666667\n",
              "2  Maradona            3         6   10.000000\n",
              "3  Maradona            4         6   10.000000\n",
              "4  Maradona            5        19   31.666667\n",
              "5     Messi            1        31   40.259740\n",
              "6     Messi            2        12   15.584416\n",
              "7     Messi            3         5    6.493506\n",
              "8     Messi            4         5    6.493506\n",
              "9     Messi            5        24   31.168831"
            ],
            "text/html": [
              "\n",
              "  <div id=\"df-7100850b-d708-49fa-a049-56020211a2b9\" class=\"colab-df-container\">\n",
              "    <div>\n",
              "<style scoped>\n",
              "    .dataframe tbody tr th:only-of-type {\n",
              "        vertical-align: middle;\n",
              "    }\n",
              "\n",
              "    .dataframe tbody tr th {\n",
              "        vertical-align: top;\n",
              "    }\n",
              "\n",
              "    .dataframe thead th {\n",
              "        text-align: right;\n",
              "    }\n",
              "</style>\n",
              "<table border=\"1\" class=\"dataframe\">\n",
              "  <thead>\n",
              "    <tr style=\"text-align: right;\">\n",
              "      <th></th>\n",
              "      <th>jugador</th>\n",
              "      <th>sentimiento</th>\n",
              "      <th>cantidad</th>\n",
              "      <th>porcentaje</th>\n",
              "    </tr>\n",
              "  </thead>\n",
              "  <tbody>\n",
              "    <tr>\n",
              "      <th>0</th>\n",
              "      <td>Maradona</td>\n",
              "      <td>1</td>\n",
              "      <td>19</td>\n",
              "      <td>31.666667</td>\n",
              "    </tr>\n",
              "    <tr>\n",
              "      <th>1</th>\n",
              "      <td>Maradona</td>\n",
              "      <td>2</td>\n",
              "      <td>10</td>\n",
              "      <td>16.666667</td>\n",
              "    </tr>\n",
              "    <tr>\n",
              "      <th>2</th>\n",
              "      <td>Maradona</td>\n",
              "      <td>3</td>\n",
              "      <td>6</td>\n",
              "      <td>10.000000</td>\n",
              "    </tr>\n",
              "    <tr>\n",
              "      <th>3</th>\n",
              "      <td>Maradona</td>\n",
              "      <td>4</td>\n",
              "      <td>6</td>\n",
              "      <td>10.000000</td>\n",
              "    </tr>\n",
              "    <tr>\n",
              "      <th>4</th>\n",
              "      <td>Maradona</td>\n",
              "      <td>5</td>\n",
              "      <td>19</td>\n",
              "      <td>31.666667</td>\n",
              "    </tr>\n",
              "    <tr>\n",
              "      <th>5</th>\n",
              "      <td>Messi</td>\n",
              "      <td>1</td>\n",
              "      <td>31</td>\n",
              "      <td>40.259740</td>\n",
              "    </tr>\n",
              "    <tr>\n",
              "      <th>6</th>\n",
              "      <td>Messi</td>\n",
              "      <td>2</td>\n",
              "      <td>12</td>\n",
              "      <td>15.584416</td>\n",
              "    </tr>\n",
              "    <tr>\n",
              "      <th>7</th>\n",
              "      <td>Messi</td>\n",
              "      <td>3</td>\n",
              "      <td>5</td>\n",
              "      <td>6.493506</td>\n",
              "    </tr>\n",
              "    <tr>\n",
              "      <th>8</th>\n",
              "      <td>Messi</td>\n",
              "      <td>4</td>\n",
              "      <td>5</td>\n",
              "      <td>6.493506</td>\n",
              "    </tr>\n",
              "    <tr>\n",
              "      <th>9</th>\n",
              "      <td>Messi</td>\n",
              "      <td>5</td>\n",
              "      <td>24</td>\n",
              "      <td>31.168831</td>\n",
              "    </tr>\n",
              "  </tbody>\n",
              "</table>\n",
              "</div>\n",
              "    <div class=\"colab-df-buttons\">\n",
              "\n",
              "  <div class=\"colab-df-container\">\n",
              "    <button class=\"colab-df-convert\" onclick=\"convertToInteractive('df-7100850b-d708-49fa-a049-56020211a2b9')\"\n",
              "            title=\"Convert this dataframe to an interactive table.\"\n",
              "            style=\"display:none;\">\n",
              "\n",
              "  <svg xmlns=\"http://www.w3.org/2000/svg\" height=\"24px\" viewBox=\"0 -960 960 960\">\n",
              "    <path d=\"M120-120v-720h720v720H120Zm60-500h600v-160H180v160Zm220 220h160v-160H400v160Zm0 220h160v-160H400v160ZM180-400h160v-160H180v160Zm440 0h160v-160H620v160ZM180-180h160v-160H180v160Zm440 0h160v-160H620v160Z\"/>\n",
              "  </svg>\n",
              "    </button>\n",
              "\n",
              "  <style>\n",
              "    .colab-df-container {\n",
              "      display:flex;\n",
              "      gap: 12px;\n",
              "    }\n",
              "\n",
              "    .colab-df-convert {\n",
              "      background-color: #E8F0FE;\n",
              "      border: none;\n",
              "      border-radius: 50%;\n",
              "      cursor: pointer;\n",
              "      display: none;\n",
              "      fill: #1967D2;\n",
              "      height: 32px;\n",
              "      padding: 0 0 0 0;\n",
              "      width: 32px;\n",
              "    }\n",
              "\n",
              "    .colab-df-convert:hover {\n",
              "      background-color: #E2EBFA;\n",
              "      box-shadow: 0px 1px 2px rgba(60, 64, 67, 0.3), 0px 1px 3px 1px rgba(60, 64, 67, 0.15);\n",
              "      fill: #174EA6;\n",
              "    }\n",
              "\n",
              "    .colab-df-buttons div {\n",
              "      margin-bottom: 4px;\n",
              "    }\n",
              "\n",
              "    [theme=dark] .colab-df-convert {\n",
              "      background-color: #3B4455;\n",
              "      fill: #D2E3FC;\n",
              "    }\n",
              "\n",
              "    [theme=dark] .colab-df-convert:hover {\n",
              "      background-color: #434B5C;\n",
              "      box-shadow: 0px 1px 3px 1px rgba(0, 0, 0, 0.15);\n",
              "      filter: drop-shadow(0px 1px 2px rgba(0, 0, 0, 0.3));\n",
              "      fill: #FFFFFF;\n",
              "    }\n",
              "  </style>\n",
              "\n",
              "    <script>\n",
              "      const buttonEl =\n",
              "        document.querySelector('#df-7100850b-d708-49fa-a049-56020211a2b9 button.colab-df-convert');\n",
              "      buttonEl.style.display =\n",
              "        google.colab.kernel.accessAllowed ? 'block' : 'none';\n",
              "\n",
              "      async function convertToInteractive(key) {\n",
              "        const element = document.querySelector('#df-7100850b-d708-49fa-a049-56020211a2b9');\n",
              "        const dataTable =\n",
              "          await google.colab.kernel.invokeFunction('convertToInteractive',\n",
              "                                                    [key], {});\n",
              "        if (!dataTable) return;\n",
              "\n",
              "        const docLinkHtml = 'Like what you see? Visit the ' +\n",
              "          '<a target=\"_blank\" href=https://colab.research.google.com/notebooks/data_table.ipynb>data table notebook</a>'\n",
              "          + ' to learn more about interactive tables.';\n",
              "        element.innerHTML = '';\n",
              "        dataTable['output_type'] = 'display_data';\n",
              "        await google.colab.output.renderOutput(dataTable, element);\n",
              "        const docLink = document.createElement('div');\n",
              "        docLink.innerHTML = docLinkHtml;\n",
              "        element.appendChild(docLink);\n",
              "      }\n",
              "    </script>\n",
              "  </div>\n",
              "\n",
              "\n",
              "<div id=\"df-ce1b4801-8543-4e9b-baa3-d7284f9a8bcb\">\n",
              "  <button class=\"colab-df-quickchart\" onclick=\"quickchart('df-ce1b4801-8543-4e9b-baa3-d7284f9a8bcb')\"\n",
              "            title=\"Suggest charts\"\n",
              "            style=\"display:none;\">\n",
              "\n",
              "<svg xmlns=\"http://www.w3.org/2000/svg\" height=\"24px\"viewBox=\"0 0 24 24\"\n",
              "     width=\"24px\">\n",
              "    <g>\n",
              "        <path d=\"M19 3H5c-1.1 0-2 .9-2 2v14c0 1.1.9 2 2 2h14c1.1 0 2-.9 2-2V5c0-1.1-.9-2-2-2zM9 17H7v-7h2v7zm4 0h-2V7h2v10zm4 0h-2v-4h2v4z\"/>\n",
              "    </g>\n",
              "</svg>\n",
              "  </button>\n",
              "\n",
              "<style>\n",
              "  .colab-df-quickchart {\n",
              "      --bg-color: #E8F0FE;\n",
              "      --fill-color: #1967D2;\n",
              "      --hover-bg-color: #E2EBFA;\n",
              "      --hover-fill-color: #174EA6;\n",
              "      --disabled-fill-color: #AAA;\n",
              "      --disabled-bg-color: #DDD;\n",
              "  }\n",
              "\n",
              "  [theme=dark] .colab-df-quickchart {\n",
              "      --bg-color: #3B4455;\n",
              "      --fill-color: #D2E3FC;\n",
              "      --hover-bg-color: #434B5C;\n",
              "      --hover-fill-color: #FFFFFF;\n",
              "      --disabled-bg-color: #3B4455;\n",
              "      --disabled-fill-color: #666;\n",
              "  }\n",
              "\n",
              "  .colab-df-quickchart {\n",
              "    background-color: var(--bg-color);\n",
              "    border: none;\n",
              "    border-radius: 50%;\n",
              "    cursor: pointer;\n",
              "    display: none;\n",
              "    fill: var(--fill-color);\n",
              "    height: 32px;\n",
              "    padding: 0;\n",
              "    width: 32px;\n",
              "  }\n",
              "\n",
              "  .colab-df-quickchart:hover {\n",
              "    background-color: var(--hover-bg-color);\n",
              "    box-shadow: 0 1px 2px rgba(60, 64, 67, 0.3), 0 1px 3px 1px rgba(60, 64, 67, 0.15);\n",
              "    fill: var(--button-hover-fill-color);\n",
              "  }\n",
              "\n",
              "  .colab-df-quickchart-complete:disabled,\n",
              "  .colab-df-quickchart-complete:disabled:hover {\n",
              "    background-color: var(--disabled-bg-color);\n",
              "    fill: var(--disabled-fill-color);\n",
              "    box-shadow: none;\n",
              "  }\n",
              "\n",
              "  .colab-df-spinner {\n",
              "    border: 2px solid var(--fill-color);\n",
              "    border-color: transparent;\n",
              "    border-bottom-color: var(--fill-color);\n",
              "    animation:\n",
              "      spin 1s steps(1) infinite;\n",
              "  }\n",
              "\n",
              "  @keyframes spin {\n",
              "    0% {\n",
              "      border-color: transparent;\n",
              "      border-bottom-color: var(--fill-color);\n",
              "      border-left-color: var(--fill-color);\n",
              "    }\n",
              "    20% {\n",
              "      border-color: transparent;\n",
              "      border-left-color: var(--fill-color);\n",
              "      border-top-color: var(--fill-color);\n",
              "    }\n",
              "    30% {\n",
              "      border-color: transparent;\n",
              "      border-left-color: var(--fill-color);\n",
              "      border-top-color: var(--fill-color);\n",
              "      border-right-color: var(--fill-color);\n",
              "    }\n",
              "    40% {\n",
              "      border-color: transparent;\n",
              "      border-right-color: var(--fill-color);\n",
              "      border-top-color: var(--fill-color);\n",
              "    }\n",
              "    60% {\n",
              "      border-color: transparent;\n",
              "      border-right-color: var(--fill-color);\n",
              "    }\n",
              "    80% {\n",
              "      border-color: transparent;\n",
              "      border-right-color: var(--fill-color);\n",
              "      border-bottom-color: var(--fill-color);\n",
              "    }\n",
              "    90% {\n",
              "      border-color: transparent;\n",
              "      border-bottom-color: var(--fill-color);\n",
              "    }\n",
              "  }\n",
              "</style>\n",
              "\n",
              "  <script>\n",
              "    async function quickchart(key) {\n",
              "      const quickchartButtonEl =\n",
              "        document.querySelector('#' + key + ' button');\n",
              "      quickchartButtonEl.disabled = true;  // To prevent multiple clicks.\n",
              "      quickchartButtonEl.classList.add('colab-df-spinner');\n",
              "      try {\n",
              "        const charts = await google.colab.kernel.invokeFunction(\n",
              "            'suggestCharts', [key], {});\n",
              "      } catch (error) {\n",
              "        console.error('Error during call to suggestCharts:', error);\n",
              "      }\n",
              "      quickchartButtonEl.classList.remove('colab-df-spinner');\n",
              "      quickchartButtonEl.classList.add('colab-df-quickchart-complete');\n",
              "    }\n",
              "    (() => {\n",
              "      let quickchartButtonEl =\n",
              "        document.querySelector('#df-ce1b4801-8543-4e9b-baa3-d7284f9a8bcb button');\n",
              "      quickchartButtonEl.style.display =\n",
              "        google.colab.kernel.accessAllowed ? 'block' : 'none';\n",
              "    })();\n",
              "  </script>\n",
              "</div>\n",
              "\n",
              "  <div id=\"id_d59aca51-41d1-49a8-90bd-88bde9627f23\">\n",
              "    <style>\n",
              "      .colab-df-generate {\n",
              "        background-color: #E8F0FE;\n",
              "        border: none;\n",
              "        border-radius: 50%;\n",
              "        cursor: pointer;\n",
              "        display: none;\n",
              "        fill: #1967D2;\n",
              "        height: 32px;\n",
              "        padding: 0 0 0 0;\n",
              "        width: 32px;\n",
              "      }\n",
              "\n",
              "      .colab-df-generate:hover {\n",
              "        background-color: #E2EBFA;\n",
              "        box-shadow: 0px 1px 2px rgba(60, 64, 67, 0.3), 0px 1px 3px 1px rgba(60, 64, 67, 0.15);\n",
              "        fill: #174EA6;\n",
              "      }\n",
              "\n",
              "      [theme=dark] .colab-df-generate {\n",
              "        background-color: #3B4455;\n",
              "        fill: #D2E3FC;\n",
              "      }\n",
              "\n",
              "      [theme=dark] .colab-df-generate:hover {\n",
              "        background-color: #434B5C;\n",
              "        box-shadow: 0px 1px 3px 1px rgba(0, 0, 0, 0.15);\n",
              "        filter: drop-shadow(0px 1px 2px rgba(0, 0, 0, 0.3));\n",
              "        fill: #FFFFFF;\n",
              "      }\n",
              "    </style>\n",
              "    <button class=\"colab-df-generate\" onclick=\"generateWithVariable('conteo')\"\n",
              "            title=\"Generate code using this dataframe.\"\n",
              "            style=\"display:none;\">\n",
              "\n",
              "  <svg xmlns=\"http://www.w3.org/2000/svg\" height=\"24px\"viewBox=\"0 0 24 24\"\n",
              "       width=\"24px\">\n",
              "    <path d=\"M7,19H8.4L18.45,9,17,7.55,7,17.6ZM5,21V16.75L18.45,3.32a2,2,0,0,1,2.83,0l1.4,1.43a1.91,1.91,0,0,1,.58,1.4,1.91,1.91,0,0,1-.58,1.4L9.25,21ZM18.45,9,17,7.55Zm-12,3A5.31,5.31,0,0,0,4.9,8.1,5.31,5.31,0,0,0,1,6.5,5.31,5.31,0,0,0,4.9,4.9,5.31,5.31,0,0,0,6.5,1,5.31,5.31,0,0,0,8.1,4.9,5.31,5.31,0,0,0,12,6.5,5.46,5.46,0,0,0,6.5,12Z\"/>\n",
              "  </svg>\n",
              "    </button>\n",
              "    <script>\n",
              "      (() => {\n",
              "      const buttonEl =\n",
              "        document.querySelector('#id_d59aca51-41d1-49a8-90bd-88bde9627f23 button.colab-df-generate');\n",
              "      buttonEl.style.display =\n",
              "        google.colab.kernel.accessAllowed ? 'block' : 'none';\n",
              "\n",
              "      buttonEl.onclick = () => {\n",
              "        google.colab.notebook.generateWithVariable('conteo');\n",
              "      }\n",
              "      })();\n",
              "    </script>\n",
              "  </div>\n",
              "\n",
              "    </div>\n",
              "  </div>\n"
            ],
            "application/vnd.google.colaboratory.intrinsic+json": {
              "type": "dataframe",
              "variable_name": "conteo",
              "summary": "{\n  \"name\": \"conteo\",\n  \"rows\": 10,\n  \"fields\": [\n    {\n      \"column\": \"jugador\",\n      \"properties\": {\n        \"dtype\": \"category\",\n        \"num_unique_values\": 2,\n        \"samples\": [\n          \"Messi\",\n          \"Maradona\"\n        ],\n        \"semantic_type\": \"\",\n        \"description\": \"\"\n      }\n    },\n    {\n      \"column\": \"sentimiento\",\n      \"properties\": {\n        \"dtype\": \"number\",\n        \"std\": 1,\n        \"min\": 1,\n        \"max\": 5,\n        \"num_unique_values\": 5,\n        \"samples\": [\n          2,\n          5\n        ],\n        \"semantic_type\": \"\",\n        \"description\": \"\"\n      }\n    },\n    {\n      \"column\": \"cantidad\",\n      \"properties\": {\n        \"dtype\": \"number\",\n        \"std\": 9,\n        \"min\": 5,\n        \"max\": 31,\n        \"num_unique_values\": 7,\n        \"samples\": [\n          19,\n          10\n        ],\n        \"semantic_type\": \"\",\n        \"description\": \"\"\n      }\n    },\n    {\n      \"column\": \"porcentaje\",\n      \"properties\": {\n        \"dtype\": \"number\",\n        \"std\": 12.485019102091838,\n        \"min\": 6.493506493506493,\n        \"max\": 40.25974025974026,\n        \"num_unique_values\": 7,\n        \"samples\": [\n          31.666666666666664,\n          16.666666666666664\n        ],\n        \"semantic_type\": \"\",\n        \"description\": \"\"\n      }\n    }\n  ]\n}"
            }
          },
          "metadata": {},
          "execution_count": 22
        }
      ],
      "source": [
        "# Asegurarse de que los valores sean enteros\n",
        "df['sentimiento'] = df['sentimiento'].astype(int)\n",
        "\n",
        "# Calcular conteo\n",
        "conteo = df.groupby(['jugador', 'sentimiento']).size().reset_index(name='cantidad')\n",
        "\n",
        "# Calcular % por jugador\n",
        "total_por_jugador = conteo.groupby('jugador')['cantidad'].transform('sum')\n",
        "conteo['porcentaje'] = conteo['cantidad'] / total_por_jugador * 100\n",
        "\n",
        "conteo"
      ]
    },
    {
      "cell_type": "code",
      "execution_count": 23,
      "metadata": {
        "colab": {
          "base_uri": "https://localhost:8080/",
          "height": 488
        },
        "id": "0znzr1Rq01B8",
        "outputId": "ad4020c7-2a4d-4079-ca12-d61f6465fd86"
      },
      "outputs": [
        {
          "output_type": "display_data",
          "data": {
            "text/plain": [
              "<Figure size 800x500 with 1 Axes>"
            ],
            "image/png": "[encoded data removed]"
          },
          "metadata": {}
        }
      ],
      "source": [
        "# Graficar\n",
        "orden_estrellas = [1, 2, 3, 4, 5]\n",
        "\n",
        "plt.figure(figsize=(8, 5))\n",
        "sns.barplot(data=conteo, x='sentimiento', y='porcentaje', hue='jugador', order=orden_estrellas, palette='pastel')\n",
        "plt.title('Distribución (%) de Estrellas por Jugador')\n",
        "plt.xlabel('Estrellas (1 a 5)')\n",
        "plt.ylabel('Porcentaje de Posts')\n",
        "plt.legend(title='Jugador')\n",
        "plt.grid(axis='y', linestyle='--', alpha=0.5)\n",
        "plt.show()"
      ]
    },
    {
      "cell_type": "markdown",
      "metadata": {
        "id": "Xok8lA0vFPWE"
      },
      "source": [
        "## 6️⃣ Refine – Refinamiento visual 🎨\n",
        "\n",
        "**Objetivo:** Mejorar estética y legibilidad.\n",
        "\n",
        "**En este proyecto:** Ajustamos detalles gráficos para lograr una presentación profesional:\n",
        "\n",
        "- Límites del eje Y más amplios\n",
        "- Leyendas alineadas y fuera del gráfico\n",
        "- Bordes en las barras\n",
        "- Etiquetas claras y bien posicionadas\n"
      ]
    },
    {
      "cell_type": "code",
      "source": [
        "colores_arg = ['#005AA7', '#75AADB']  # Azul Maradona, celeste Messi"
      ],
      "metadata": {
        "id": "NiKEYFN54X-_"
      },
      "execution_count": 24,
      "outputs": []
    },
    {
      "cell_type": "code",
      "execution_count": 25,
      "metadata": {
        "colab": {
          "base_uri": "https://localhost:8080/",
          "height": 607
        },
        "id": "6iCnVmO51jKZ",
        "outputId": "d046c336-0c46-4a53-e724-c39bcb703e48"
      },
      "outputs": [
        {
          "output_type": "display_data",
          "data": {
            "text/plain": [
              "<Figure size 800x600 with 1 Axes>"
            ],
            "image/png": "[encoded data removed]"
          },
          "metadata": {}
        }
      ],
      "source": [
        "plt.figure(figsize=(8, 6))\n",
        "ax = sns.barplot(\n",
        "    data=conteo,\n",
        "    x='sentimiento',\n",
        "    y='porcentaje',\n",
        "    hue='jugador',\n",
        "    order=[1, 2, 3, 4, 5],\n",
        "    palette=colores_arg,\n",
        "    edgecolor='black',     # 👈 Borde negro\n",
        "    linewidth=0.5,         # 👈 Grosor del borde\n",
        "    zorder=2\n",
        ")\n",
        "\n",
        "# Ejes y títulos\n",
        "plt.title('Distribución (%) de Estrellas por Jugador', fontsize=14)\n",
        "plt.xlabel('Estrellas (1 a 5)', fontsize=12)\n",
        "plt.ylabel('Porcentaje de Posts', fontsize=12)\n",
        "plt.xticks(fontsize=11)\n",
        "plt.yticks(fontsize=11)\n",
        "plt.ylim(0, 45)\n",
        "\n",
        "# Grid en segundo plano\n",
        "plt.grid(axis='y', linestyle='--', alpha=0.3, zorder=1)\n",
        "\n",
        "# Leyenda alineada afuera\n",
        "plt.legend(\n",
        "    title='Jugador',\n",
        "    bbox_to_anchor=(1.05, 1),\n",
        "    loc='upper left',\n",
        "    borderaxespad=0,\n",
        "    fontsize=10,\n",
        "    title_fontsize=11\n",
        ")\n",
        "\n",
        "# Etiquetas por encima\n",
        "for p in ax.patches:\n",
        "    height = p.get_height()\n",
        "    if height > 0:\n",
        "        ax.annotate(f'{height:.1f}%',\n",
        "                    (p.get_x() + p.get_width() / 2, height + 1),\n",
        "                    ha='center', va='bottom', fontsize=10)\n",
        "\n",
        "plt.tight_layout()\n",
        "plt.show()\n"
      ]
    },
    {
      "cell_type": "markdown",
      "metadata": {
        "id": "K4InqM_nFRmJ"
      },
      "source": [
        "## 7️⃣ Interact – Exploración dinámica 🧭\n",
        "\n",
        "**Objetivo:** Permitir al usuario explorar los datos por sí mismo.\n",
        "\n",
        "**En este proyecto:** Creamos un gráfico interactivo con `Plotly Express`:\n",
        "\n",
        "- Tooltip dinámico al pasar el mouse\n",
        "- Posibilidad de activar/desactivar jugadores\n",
        "- Visual atractivo y limpio para presentación o dashboard\n",
        "\n",
        "Esta etapa mejora la exploración y la autonomía del usuario final."
      ]
    },
    {
      "cell_type": "markdown",
      "metadata": {
        "id": "c76d9d29"
      },
      "source": [
        "### 🌐 Gráfico interactivo con Plotly\n",
        "Generamos una visualización que permite explorar los datos dinámicamente."
      ]
    },
    {
      "cell_type": "code",
      "execution_count": 26,
      "metadata": {
        "colab": {
          "base_uri": "https://localhost:8080/",
          "height": 542
        },
        "id": "qXst2pvE3QsA",
        "outputId": "8e107b3a-923c-4d06-a717-3cb97c687c09"
      },
      "outputs": [
        {
          "output_type": "display_data",
          "data": {
            "text/html": [
              "<html>\n",
              "<head><meta charset=\"utf-8\" /></head>\n",
              "<body>\n",
              "    <div>            <script src=\"https://cdnjs.cloudflare.com/ajax/libs/mathjax/2.7.5/MathJax.js?config=TeX-AMS-MML_SVG\"></script><script type=\"text/javascript\">if (window.MathJax && window.MathJax.Hub && window.MathJax.Hub.Config) {window.MathJax.Hub.Config({SVG: {font: \"STIX-Web\"}});}</script>                <script type=\"text/javascript\">window.PlotlyConfig = {MathJaxConfig: 'local'};</script>\n",
              "        <script charset=\"utf-8\" src=\"https://cdn.plot.ly/plotly-2.35.2.min.js\"></script>                <div id=\"a5a6b6bf-94d0-43cb-a54c-7dfa21b131f4\" class=\"plotly-graph-div\" style=\"height:525px; width:100%;\"></div>            <script type=\"text/javascript\">                                    window.PLOTLYENV=window.PLOTLYENV || {};                                    if (document.getElementById(\"a5a6b6bf-94d0-43cb-a54c-7dfa21b131f4\")) {                    Plotly.newPlot(                        \"a5a6b6bf-94d0-43cb-a54c-7dfa21b131f4\",                        [{\"alignmentgroup\":\"True\",\"customdata\":[[\"31.7%\"],[\"16.7%\"],[\"10.0%\"],[\"10.0%\"],[\"31.7%\"]],\"hovertemplate\":\"Jugador=Maradona\\u003cbr\\u003eEstrellas=%{x}\\u003cbr\\u003ePorcentaje=%{y}\\u003cextra\\u003e\\u003c\\u002fextra\\u003e\",\"legendgroup\":\"Maradona\",\"marker\":{\"color\":\"#005AA7\",\"pattern\":{\"shape\":\"\"}},\"name\":\"Maradona\",\"offsetgroup\":\"Maradona\",\"orientation\":\"v\",\"showlegend\":true,\"text\":[\"31.7%\",\"16.7%\",\"10.0%\",\"10.0%\",\"31.7%\"],\"textposition\":\"outside\",\"x\":[1,2,3,4,5],\"xaxis\":\"x\",\"y\":[31.666666666666664,16.666666666666664,10.0,10.0,31.666666666666664],\"yaxis\":\"y\",\"type\":\"bar\",\"textfont\":{\"size\":12}},{\"alignmentgroup\":\"True\",\"customdata\":[[\"40.3%\"],[\"15.6%\"],[\"6.5%\"],[\"6.5%\"],[\"31.2%\"]],\"hovertemplate\":\"Jugador=Messi\\u003cbr\\u003eEstrellas=%{x}\\u003cbr\\u003ePorcentaje=%{y}\\u003cextra\\u003e\\u003c\\u002fextra\\u003e\",\"legendgroup\":\"Messi\",\"marker\":{\"color\":\"#75AADB\",\"pattern\":{\"shape\":\"\"}},\"name\":\"Messi\",\"offsetgroup\":\"Messi\",\"orientation\":\"v\",\"showlegend\":true,\"text\":[\"40.3%\",\"15.6%\",\"6.5%\",\"6.5%\",\"31.2%\"],\"textposition\":\"outside\",\"x\":[1,2,3,4,5],\"xaxis\":\"x\",\"y\":[40.25974025974026,15.584415584415584,6.493506493506493,6.493506493506493,31.16883116883117],\"yaxis\":\"y\",\"type\":\"bar\",\"textfont\":{\"size\":12}}],                        {\"template\":{\"data\":{\"histogram2dcontour\":[{\"type\":\"histogram2dcontour\",\"colorbar\":{\"outlinewidth\":0,\"ticks\":\"\"},\"colorscale\":[[0.0,\"#0d0887\"],[0.1111111111111111,\"#46039f\"],[0.2222222222222222,\"#7201a8\"],[0.3333333333333333,\"#9c179e\"],[0.4444444444444444,\"#bd3786\"],[0.5555555555555556,\"#d8576b\"],[0.6666666666666666,\"#ed7953\"],[0.7777777777777778,\"#fb9f3a\"],[0.8888888888888888,\"#fdca26\"],[1.0,\"#f0f921\"]]}],\"choropleth\":[{\"type\":\"choropleth\",\"colorbar\":{\"outlinewidth\":0,\"ticks\":\"\"}}],\"histogram2d\":[{\"type\":\"histogram2d\",\"colorbar\":{\"outlinewidth\":0,\"ticks\":\"\"},\"colorscale\":[[0.0,\"#0d0887\"],[0.1111111111111111,\"#46039f\"],[0.2222222222222222,\"#7201a8\"],[0.3333333333333333,\"#9c179e\"],[0.4444444444444444,\"#bd3786\"],[0.5555555555555556,\"#d8576b\"],[0.6666666666666666,\"#ed7953\"],[0.7777777777777778,\"#fb9f3a\"],[0.8888888888888888,\"#fdca26\"],[1.0,\"#f0f921\"]]}],\"heatmap\":[{\"type\":\"heatmap\",\"colorbar\":{\"outlinewidth\":0,\"ticks\":\"\"},\"colorscale\":[[0.0,\"#0d0887\"],[0.1111111111111111,\"#46039f\"],[0.2222222222222222,\"#7201a8\"],[0.3333333333333333,\"#9c179e\"],[0.4444444444444444,\"#bd3786\"],[0.5555555555555556,\"#d8576b\"],[0.6666666666666666,\"#ed7953\"],[0.7777777777777778,\"#fb9f3a\"],[0.8888888888888888,\"#fdca26\"],[1.0,\"#f0f921\"]]}],\"heatmapgl\":[{\"type\":\"heatmapgl\",\"colorbar\":{\"outlinewidth\":0,\"ticks\":\"\"},\"colorscale\":[[0.0,\"#0d0887\"],[0.1111111111111111,\"#46039f\"],[0.2222222222222222,\"#7201a8\"],[0.3333333333333333,\"#9c179e\"],[0.4444444444444444,\"#bd3786\"],[0.5555555555555556,\"#d8576b\"],[0.6666666666666666,\"#ed7953\"],[0.7777777777777778,\"#fb9f3a\"],[0.8888888888888888,\"#fdca26\"],[1.0,\"#f0f921\"]]}],\"contourcarpet\":[{\"type\":\"contourcarpet\",\"colorbar\":{\"outlinewidth\":0,\"ticks\":\"\"}}],\"contour\":[{\"type\":\"contour\",\"colorbar\":{\"outlinewidth\":0,\"ticks\":\"\"},\"colorscale\":[[0.0,\"#0d0887\"],[0.1111111111111111,\"#46039f\"],[0.2222222222222222,\"#7201a8\"],[0.3333333333333333,\"#9c179e\"],[0.4444444444444444,\"#bd3786\"],[0.5555555555555556,\"#d8576b\"],[0.6666666666666666,\"#ed7953\"],[0.7777777777777778,\"#fb9f3a\"],[0.8888888888888888,\"#fdca26\"],[1.0,\"#f0f921\"]]}],\"surface\":[{\"type\":\"surface\",\"colorbar\":{\"outlinewidth\":0,\"ticks\":\"\"},\"colorscale\":[[0.0,\"#0d0887\"],[0.1111111111111111,\"#46039f\"],[0.2222222222222222,\"#7201a8\"],[0.3333333333333333,\"#9c179e\"],[0.4444444444444444,\"#bd3786\"],[0.5555555555555556,\"#d8576b\"],[0.6666666666666666,\"#ed7953\"],[0.7777777777777778,\"#fb9f3a\"],[0.8888888888888888,\"#fdca26\"],[1.0,\"#f0f921\"]]}],\"mesh3d\":[{\"type\":\"mesh3d\",\"colorbar\":{\"outlinewidth\":0,\"ticks\":\"\"}}],\"scatter\":[{\"fillpattern\":{\"fillmode\":\"overlay\",\"size\":10,\"solidity\":0.2},\"type\":\"scatter\"}],\"parcoords\":[{\"type\":\"parcoords\",\"line\":{\"colorbar\":{\"outlinewidth\":0,\"ticks\":\"\"}}}],\"scatterpolargl\":[{\"type\":\"scatterpolargl\",\"marker\":{\"colorbar\":{\"outlinewidth\":0,\"ticks\":\"\"}}}],\"bar\":[{\"error_x\":{\"color\":\"#2a3f5f\"},\"error_y\":{\"color\":\"#2a3f5f\"},\"marker\":{\"line\":{\"color\":\"#E5ECF6\",\"width\":0.5},\"pattern\":{\"fillmode\":\"overlay\",\"size\":10,\"solidity\":0.2}},\"type\":\"bar\"}],\"scattergeo\":[{\"type\":\"scattergeo\",\"marker\":{\"colorbar\":{\"outlinewidth\":0,\"ticks\":\"\"}}}],\"scatterpolar\":[{\"type\":\"scatterpolar\",\"marker\":{\"colorbar\":{\"outlinewidth\":0,\"ticks\":\"\"}}}],\"histogram\":[{\"marker\":{\"pattern\":{\"fillmode\":\"overlay\",\"size\":10,\"solidity\":0.2}},\"type\":\"histogram\"}],\"scattergl\":[{\"type\":\"scattergl\",\"marker\":{\"colorbar\":{\"outlinewidth\":0,\"ticks\":\"\"}}}],\"scatter3d\":[{\"type\":\"scatter3d\",\"line\":{\"colorbar\":{\"outlinewidth\":0,\"ticks\":\"\"}},\"marker\":{\"colorbar\":{\"outlinewidth\":0,\"ticks\":\"\"}}}],\"scattermapbox\":[{\"type\":\"scattermapbox\",\"marker\":{\"colorbar\":{\"outlinewidth\":0,\"ticks\":\"\"}}}],\"scatterternary\":[{\"type\":\"scatterternary\",\"marker\":{\"colorbar\":{\"outlinewidth\":0,\"ticks\":\"\"}}}],\"scattercarpet\":[{\"type\":\"scattercarpet\",\"marker\":{\"colorbar\":{\"outlinewidth\":0,\"ticks\":\"\"}}}],\"carpet\":[{\"aaxis\":{\"endlinecolor\":\"#2a3f5f\",\"gridcolor\":\"white\",\"linecolor\":\"white\",\"minorgridcolor\":\"white\",\"startlinecolor\":\"#2a3f5f\"},\"baxis\":{\"endlinecolor\":\"#2a3f5f\",\"gridcolor\":\"white\",\"linecolor\":\"white\",\"minorgridcolor\":\"white\",\"startlinecolor\":\"#2a3f5f\"},\"type\":\"carpet\"}],\"table\":[{\"cells\":{\"fill\":{\"color\":\"#EBF0F8\"},\"line\":{\"color\":\"white\"}},\"header\":{\"fill\":{\"color\":\"#C8D4E3\"},\"line\":{\"color\":\"white\"}},\"type\":\"table\"}],\"barpolar\":[{\"marker\":{\"line\":{\"color\":\"#E5ECF6\",\"width\":0.5},\"pattern\":{\"fillmode\":\"overlay\",\"size\":10,\"solidity\":0.2}},\"type\":\"barpolar\"}],\"pie\":[{\"automargin\":true,\"type\":\"pie\"}]},\"layout\":{\"autotypenumbers\":\"strict\",\"colorway\":[\"#636efa\",\"#EF553B\",\"#00cc96\",\"#ab63fa\",\"#FFA15A\",\"#19d3f3\",\"#FF6692\",\"#B6E880\",\"#FF97FF\",\"#FECB52\"],\"font\":{\"color\":\"#2a3f5f\"},\"hovermode\":\"closest\",\"hoverlabel\":{\"align\":\"left\"},\"paper_bgcolor\":\"white\",\"plot_bgcolor\":\"#E5ECF6\",\"polar\":{\"bgcolor\":\"#E5ECF6\",\"angularaxis\":{\"gridcolor\":\"white\",\"linecolor\":\"white\",\"ticks\":\"\"},\"radialaxis\":{\"gridcolor\":\"white\",\"linecolor\":\"white\",\"ticks\":\"\"}},\"ternary\":{\"bgcolor\":\"#E5ECF6\",\"aaxis\":{\"gridcolor\":\"white\",\"linecolor\":\"white\",\"ticks\":\"\"},\"baxis\":{\"gridcolor\":\"white\",\"linecolor\":\"white\",\"ticks\":\"\"},\"caxis\":{\"gridcolor\":\"white\",\"linecolor\":\"white\",\"ticks\":\"\"}},\"coloraxis\":{\"colorbar\":{\"outlinewidth\":0,\"ticks\":\"\"}},\"colorscale\":{\"sequential\":[[0.0,\"#0d0887\"],[0.1111111111111111,\"#46039f\"],[0.2222222222222222,\"#7201a8\"],[0.3333333333333333,\"#9c179e\"],[0.4444444444444444,\"#bd3786\"],[0.5555555555555556,\"#d8576b\"],[0.6666666666666666,\"#ed7953\"],[0.7777777777777778,\"#fb9f3a\"],[0.8888888888888888,\"#fdca26\"],[1.0,\"#f0f921\"]],\"sequentialminus\":[[0.0,\"#0d0887\"],[0.1111111111111111,\"#46039f\"],[0.2222222222222222,\"#7201a8\"],[0.3333333333333333,\"#9c179e\"],[0.4444444444444444,\"#bd3786\"],[0.5555555555555556,\"#d8576b\"],[0.6666666666666666,\"#ed7953\"],[0.7777777777777778,\"#fb9f3a\"],[0.8888888888888888,\"#fdca26\"],[1.0,\"#f0f921\"]],\"diverging\":[[0,\"#8e0152\"],[0.1,\"#c51b7d\"],[0.2,\"#de77ae\"],[0.3,\"#f1b6da\"],[0.4,\"#fde0ef\"],[0.5,\"#f7f7f7\"],[0.6,\"#e6f5d0\"],[0.7,\"#b8e186\"],[0.8,\"#7fbc41\"],[0.9,\"#4d9221\"],[1,\"#276419\"]]},\"xaxis\":{\"gridcolor\":\"white\",\"linecolor\":\"white\",\"ticks\":\"\",\"title\":{\"standoff\":15},\"zerolinecolor\":\"white\",\"automargin\":true,\"zerolinewidth\":2},\"yaxis\":{\"gridcolor\":\"white\",\"linecolor\":\"white\",\"ticks\":\"\",\"title\":{\"standoff\":15},\"zerolinecolor\":\"white\",\"automargin\":true,\"zerolinewidth\":2},\"scene\":{\"xaxis\":{\"backgroundcolor\":\"#E5ECF6\",\"gridcolor\":\"white\",\"linecolor\":\"white\",\"showbackground\":true,\"ticks\":\"\",\"zerolinecolor\":\"white\",\"gridwidth\":2},\"yaxis\":{\"backgroundcolor\":\"#E5ECF6\",\"gridcolor\":\"white\",\"linecolor\":\"white\",\"showbackground\":true,\"ticks\":\"\",\"zerolinecolor\":\"white\",\"gridwidth\":2},\"zaxis\":{\"backgroundcolor\":\"#E5ECF6\",\"gridcolor\":\"white\",\"linecolor\":\"white\",\"showbackground\":true,\"ticks\":\"\",\"zerolinecolor\":\"white\",\"gridwidth\":2}},\"shapedefaults\":{\"line\":{\"color\":\"#2a3f5f\"}},\"annotationdefaults\":{\"arrowcolor\":\"#2a3f5f\",\"arrowhead\":0,\"arrowwidth\":1},\"geo\":{\"bgcolor\":\"white\",\"landcolor\":\"#E5ECF6\",\"subunitcolor\":\"white\",\"showland\":true,\"showlakes\":true,\"lakecolor\":\"white\"},\"title\":{\"x\":0.05},\"mapbox\":{\"style\":\"light\"}}},\"xaxis\":{\"anchor\":\"y\",\"domain\":[0.0,1.0],\"title\":{\"text\":\"Estrellas\"}},\"yaxis\":{\"anchor\":\"x\",\"domain\":[0.0,1.0],\"title\":{\"text\":\"Porcentaje\"},\"range\":[0,45]},\"legend\":{\"title\":{\"text\":\"Jugador\"},\"tracegroupgap\":0,\"x\":1.02,\"y\":1,\"bordercolor\":\"gray\",\"borderwidth\":0.5},\"title\":{\"text\":\"Distribución (%) de Estrellas por Jugador\"},\"barmode\":\"group\",\"font\":{\"size\":12},\"plot_bgcolor\":\"white\",\"paper_bgcolor\":\"white\"},                        {\"responsive\": true}                    ).then(function(){\n",
              "                            \n",
              "var gd = document.getElementById('a5a6b6bf-94d0-43cb-a54c-7dfa21b131f4');\n",
              "var x = new MutationObserver(function (mutations, observer) {{\n",
              "        var display = window.getComputedStyle(gd).display;\n",
              "        if (!display || display === 'none') {{\n",
              "            console.log([gd, 'removed!']);\n",
              "            Plotly.purge(gd);\n",
              "            observer.disconnect();\n",
              "        }}\n",
              "}});\n",
              "\n",
              "// Listen for the removal of the full notebook cells\n",
              "var notebookContainer = gd.closest('#notebook-container');\n",
              "if (notebookContainer) {{\n",
              "    x.observe(notebookContainer, {childList: true});\n",
              "}}\n",
              "\n",
              "// Listen for the clearing of the current output cell\n",
              "var outputEl = gd.closest('.output');\n",
              "if (outputEl) {{\n",
              "    x.observe(outputEl, {childList: true});\n",
              "}}\n",
              "\n",
              "                        })                };                            </script>        </div>\n",
              "</body>\n",
              "</html>"
            ]
          },
          "metadata": {}
        }
      ],
      "source": [
        "import plotly.express as px\n",
        "\n",
        "# Redondear el texto como string con '%'\n",
        "conteo['texto_pct'] = conteo['porcentaje'].round(1).astype(str) + '%'\n",
        "\n",
        "# Crear gráfico\n",
        "fig = px.bar(\n",
        "    conteo,\n",
        "    x='sentimiento',\n",
        "    y='porcentaje',\n",
        "    color='jugador',\n",
        "    barmode='group',\n",
        "    text='texto_pct',\n",
        "    color_discrete_sequence=colores_arg,\n",
        "    labels={\n",
        "        'sentimiento': 'Estrellas',\n",
        "        'porcentaje': 'Porcentaje',\n",
        "        'jugador': 'Jugador'\n",
        "    },\n",
        "    title='Distribución (%) de Estrellas por Jugador',\n",
        "    hover_data={'texto_pct': False, 'porcentaje': True}\n",
        ")\n",
        "\n",
        "# Estética y ajustes visuales\n",
        "fig.update_traces(\n",
        "    textposition='outside',\n",
        "    textfont_size=12\n",
        ")\n",
        "fig.update_layout(\n",
        "    yaxis_range=[0, 45],\n",
        "    plot_bgcolor='white',\n",
        "    paper_bgcolor='white',\n",
        "    font=dict(size=12),\n",
        "    legend=dict(\n",
        "        title='Jugador',\n",
        "        x=1.02,\n",
        "        y=1,\n",
        "        bordercolor='gray',\n",
        "        borderwidth=0.5\n",
        "    )\n",
        ")\n",
        "\n",
        "fig.show()"
      ]
    }
  ],
  "metadata": {
    "colab": {
      "provenance": [],
      "include_colab_link": true
    },
    "kernelspec": {
      "display_name": "Python 3",
      "name": "python3"
    },
    "language_info": {
      "name": "python"
    }
  },
  "nbformat": 4,
  "nbformat_minor": 0
}